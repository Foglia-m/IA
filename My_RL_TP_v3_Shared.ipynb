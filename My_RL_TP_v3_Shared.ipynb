{
  "nbformat": 4,
  "nbformat_minor": 0,
  "metadata": {
    "colab": {
      "name": "My_RL_TP_v3_Shared.ipynb",
      "provenance": [],
      "collapsed_sections": [],
      "include_colab_link": true
    },
    "kernelspec": {
      "name": "python3",
      "display_name": "Python 3"
    },
    "accelerator": "GPU"
  },
  "cells": [
    {
      "cell_type": "markdown",
      "metadata": {
        "id": "view-in-github",
        "colab_type": "text"
      },
      "source": [
        "<a href=\"https://colab.research.google.com/github/Foglia-m/IA/blob/main/My_RL_TP_v3_Shared.ipynb\" target=\"_parent\"><img src=\"https://colab.research.google.com/assets/colab-badge.svg\" alt=\"Open In Colab\"/></a>"
      ]
    },
    {
      "cell_type": "markdown",
      "metadata": {
        "id": "2zekm32ZlHt8"
      },
      "source": [
        "# 1. Introduction"
      ]
    },
    {
      "cell_type": "markdown",
      "metadata": {
        "id": "5kW3z2ehkxCC"
      },
      "source": [
        "This lab is about using DRL to solve the CartPole problem (cotinuous input, discrete actions) using methods inspired by DQN.\n",
        "\n",
        "We will be using the OpenAI gym library to simulate our environment and a custom implementation of an agent to demonstrate the different building blocks of a DRL agent. This colab is destined for demonstration purposes only, using a framework (like ACME) is advised for any sophisticated use of DRL."
      ]
    },
    {
      "cell_type": "markdown",
      "metadata": {
        "id": "ac081R4Ak_y_"
      },
      "source": [
        "# 2. Imports"
      ]
    },
    {
      "cell_type": "code",
      "metadata": {
        "id": "SBJpucyFlA4u",
        "colab": {
          "base_uri": "https://localhost:8080/"
        },
        "outputId": "942902a5-d617-4192-afcf-a4654a88cadb"
      },
      "source": [
        "import gym\n",
        "import torch # PyTorch\n",
        "import numpy as np\n",
        "import random\n",
        "import copy\n",
        "\n",
        "env = gym.make(\"CartPole-v1\")\n",
        "device = torch.device(\"cuda\" if torch.cuda.is_available() else \"cpu\")\n",
        "print(device)"
      ],
      "execution_count": 1,
      "outputs": [
        {
          "output_type": "stream",
          "text": [
            "cuda\n"
          ],
          "name": "stdout"
        }
      ]
    },
    {
      "cell_type": "markdown",
      "metadata": {
        "id": "Q2iPCozM0C6d"
      },
      "source": [
        "# 3. [Class] QNetwork"
      ]
    },
    {
      "cell_type": "code",
      "metadata": {
        "id": "nxRMOc32sYCB"
      },
      "source": [
        "\"\"\" Define class AgentNeuralNetwork \"\"\"\n",
        "\n",
        "class QNetwork(torch.nn.Module):\n",
        "    def __init__(self, stateSpace, actionSpace, width=128, dropoutRate=0.5):\n",
        "        super(QNetwork, self).__init__()\n",
        "        inputLength = self._stateSpace_to_input(stateSpace) # Reading input size from environment's state space\n",
        "        nbActions = self._actionSpace_to_output(actionSpace) # Reading number of actions from environment's action space\n",
        "\n",
        "        self.activation = torch.nn.Sigmoid()\n",
        "        # self.activation = torch.nn.LeakyReLU()\n",
        "        self.dropout = torch.nn.Dropout(dropoutRate)\n",
        "\n",
        "        self.inputLayer = torch.nn.Linear(inputLength, width)\n",
        "        self.hiddenLayer1 = torch.nn.Linear(width, width*2)\n",
        "        self.hiddenLayer2 = torch.nn.Linear(width*2, width*4)\n",
        "        self.hiddenLayer3 = torch.nn.Linear(width*4, width*2)\n",
        "        self.hiddenLayer4 = torch.nn.Linear(width*2, width)\n",
        "\n",
        "        self.outputLayers = torch.nn.ModuleList([])\n",
        "        for depth in range(0, nbActions, 1): # One output per action\n",
        "            self.outputLayers.append(torch.nn.Linear(width, 1))\n",
        "\n",
        "    def _stateSpace_to_input(self, stateSpace):\n",
        "        assert isinstance(stateSpace, gym.spaces.box.Box), \"[Error] Type of <stateSpace> is not handled by the neural network.\"\n",
        "        return stateSpace.shape[0]\n",
        "\n",
        "    def _actionSpace_to_output(self, actionSpace):\n",
        "        assert isinstance(actionSpace, gym.spaces.discrete.Discrete), \"[Error] Type of <actionSpace> is not handled by the neural network.\"\n",
        "        return actionSpace.n\n",
        "\n",
        "    def forward(self, x):\n",
        "        \"\"\" Implementation of the forward pass of the qNetwork \"\"\"\n",
        "\n",
        "        x = self.dropout(self.activation(self.inputLayer(x)))\n",
        "        x = self.dropout(self.activation(self.hiddenLayer1(x)))\n",
        "        x = self.dropout(self.activation(self.hiddenLayer2(x)))\n",
        "        x = self.dropout(self.activation(self.hiddenLayer3(x)))\n",
        "        x = self.activation(self.hiddenLayer4(x))\n",
        "\n",
        "        outputs = [outputLayer(x) for outputLayer in self.outputLayers] # List of <nbActions> elements containing the <nbState> scores of that action\n",
        "        outputs = torch.stack(outputs) # [<nbActions>, <nbStates>, 1]\n",
        "        outputs = torch.squeeze(outputs, 2) # [<nbActions>, <nbStates>, 1] -> [<nbActions>, <nbStates>]\n",
        "        outputs = outputs.permute(1, 0) # [<nbActions>, <nbStates>] -> [<nbStates>, <nbActions>]\n",
        "        return outputs\n",
        "\n",
        "    def Q(self, S, A=None, verbose=False):\n",
        "      \"\"\" Other inference function to allow A to be specified or not.\n",
        "      If A is specified, the specific value is returned. If not, all values are returned. \"\"\"\n",
        "      # <S> := [list] of states\n",
        "      # <A> := [list] of actions\n",
        "      S = torch.Tensor(S) # Python list -> PyTorch tensor\n",
        "      if verbose : print(\"\\n\\n\\nS : \", S)\n",
        "      Q_S = self.forward(S)\n",
        "      if verbose : print(\"Q_S : \", Q_S)\n",
        "      if (A == None): return Q_S # Return the Q value of all possible actions\n",
        "      if verbose : print(\"A : \", A)\n",
        "      Q_S_A = [q[a] for (q, a) in zip(Q_S, A)] # Select the exact Q-values of actions A\n",
        "      if verbose : print(\"Q_S_A : \", Q_S_A)\n",
        "      Q_S_A = torch.stack(Q_S_A)\n",
        "      if verbose : print(\"Q_S_A : \", Q_S_A)\n",
        "      return Q_S_A # Return the Q value of a specific action\n",
        "\n"
      ],
      "execution_count": 31,
      "outputs": []
    },
    {
      "cell_type": "code",
      "metadata": {
        "id": "fbDaHFPezfkW",
        "colab": {
          "base_uri": "https://localhost:8080/"
        },
        "outputId": "47a48fb6-4158-4f0b-d907-f97111efeeaf"
      },
      "source": [
        "\"\"\" Test class AgentNeuralNetwork \"\"\"\n",
        "\n",
        "model = QNetwork(env.observation_space, env.action_space)\n",
        "print(model)\n",
        "mockInput = torch.rand(10, 4)\n",
        "results = model(mockInput)\n",
        "print(f\"results\\t: {results}\")\n"
      ],
      "execution_count": 3,
      "outputs": [
        {
          "output_type": "stream",
          "text": [
            "QNetwork(\n",
            "  (activation): Sigmoid()\n",
            "  (dropout): Dropout(p=0.5, inplace=False)\n",
            "  (inputLayer): Linear(in_features=4, out_features=64, bias=True)\n",
            "  (hiddenLayer1): Linear(in_features=64, out_features=128, bias=True)\n",
            "  (hiddenLayer2): Linear(in_features=128, out_features=256, bias=True)\n",
            "  (hiddenLayer3): Linear(in_features=256, out_features=128, bias=True)\n",
            "  (hiddenLayer4): Linear(in_features=128, out_features=64, bias=True)\n",
            "  (outputLayers): ModuleList(\n",
            "    (0): Linear(in_features=64, out_features=1, bias=True)\n",
            "    (1): Linear(in_features=64, out_features=1, bias=True)\n",
            "  )\n",
            ")\n",
            "results\t: tensor([[ 0.3241, -0.1825],\n",
            "        [ 0.2795, -0.1629],\n",
            "        [ 0.3021, -0.1491],\n",
            "        [ 0.2498, -0.2195],\n",
            "        [ 0.3348, -0.2267],\n",
            "        [ 0.3443, -0.2204],\n",
            "        [ 0.3194, -0.2692],\n",
            "        [ 0.3428, -0.1314],\n",
            "        [ 0.3058, -0.2187],\n",
            "        [ 0.2643, -0.1601]], grad_fn=<PermuteBackward>)\n"
          ],
          "name": "stdout"
        }
      ]
    },
    {
      "cell_type": "markdown",
      "metadata": {
        "id": "JITwC43KlBOd"
      },
      "source": [
        "# 4. [Class] Doer"
      ]
    },
    {
      "cell_type": "code",
      "metadata": {
        "id": "gVh6CyKplCft"
      },
      "source": [
        "\"\"\" Define Class Doer \"\"\"\n",
        "\n",
        "class Doer():\n",
        "  def __init__(self, model, stateSpace, actionSpace, epsilon=0.1):\n",
        "    self.stateSpace = stateSpace\n",
        "    self.actionSpace = actionSpace\n",
        "    self.qNetwork = model\n",
        "    self.epsilon = epsilon\n",
        "\n",
        "  def act(self, state, verbose=False):\n",
        "    assert isinstance(state, np.ndarray), \"[Error] Type of <state> is not handled by the doer.\"\n",
        "    if (random.random() < self.epsilon):\n",
        "      if (verbose) : print(\"Epsilon-Greedy => Random action\")\n",
        "      return env.action_space.sample()\n",
        "    self.qNetwork.eval()\n",
        "    qValues = self.qNetwork.Q([state])[0]\n",
        "    qValues = [float(qValues[0]), float(qValues[1])]\n",
        "    if (verbose) : print(f\"qValues : {qValues}\")\n",
        "    action = qValues.index(max(qValues))\n",
        "    if (verbose) : print(f\"action : {action}\")\n",
        "    return action\n",
        "\n",
        "class Doer_Random():\n",
        "  def __init__(self, *args, **kwargs) :\n",
        "    self.epsilon = 0\n",
        "  def act(self, state):\n",
        "    return env.action_space.sample()"
      ],
      "execution_count": 7,
      "outputs": []
    },
    {
      "cell_type": "code",
      "metadata": {
        "id": "URo_sR8ClSx8",
        "colab": {
          "base_uri": "https://localhost:8080/"
        },
        "outputId": "f7d10d24-0e11-4c06-c1dd-6abcf87f11ef"
      },
      "source": [
        "\"\"\" Test class Doer \"\"\"\n",
        "\n",
        "model = QNetwork(env.observation_space, env.action_space)\n",
        "doer = Doer(model, env.observation_space, env.action_space)\n",
        "state = env.reset()\n",
        "action = doer.act(state, verbose=True)"
      ],
      "execution_count": 8,
      "outputs": [
        {
          "output_type": "stream",
          "text": [
            "qValues : [-0.2774849534034729, -0.473802387714386]\n",
            "action : 0\n"
          ],
          "name": "stdout"
        }
      ]
    },
    {
      "cell_type": "markdown",
      "metadata": {
        "id": "q4kRqyFzlC4V"
      },
      "source": [
        "# 5. [Class] Experience Replay"
      ]
    },
    {
      "cell_type": "code",
      "metadata": {
        "id": "vzMmKc32gXrI"
      },
      "source": [
        "\"\"\" Define class Transition \"\"\"\n",
        "\n",
        "class Transition():\n",
        "  # A transition is a list of [St, At, Rt, St+1, At+1]\n",
        "  def __init__(self, St, At, Rt, Stp, Atp, isTerminal=False, ID=None, relevance=None, birthdate=-1):\n",
        "    self.St = St\n",
        "    self.At = At\n",
        "    self.Rt = Rt\n",
        "    self.Stp = Stp\n",
        "    self.Atp = Atp\n",
        "    self.isTerminal = isTerminal\n",
        "    self.ID = ID\n",
        "    self.relevance = relevance\n",
        "    self.birthdate = birthdate\n",
        "\n",
        "  def isValid(self):\n",
        "    if (\n",
        "        (self.St is None)\n",
        "        or (self.At is None)\n",
        "        or (self.Rt is None)\n",
        "        or (self.Stp is None)\n",
        "        or (self.Atp is None)\n",
        "    ): return False\n",
        "    return True \n",
        "\n",
        "  def __str__(self):\n",
        "    # return f\"Transition SARSA :\\n\\tSt   : {self.St}\\n\\tAt   : {self.At}\\n\\tRt   : {self.Rt}\\n\\tSt+1 : {self.Stp}\\n\\tAt+1 : {self.Atp}\\n\\tisTerminal : {self.isTerminal}\\n\\tID : {self.ID}\\n\\trelevance : {self.relevance}\"\n",
        "    return f\"[Transition] St: {self.St} | At: {self.At} | Rt: {self.Rt} | St+1: {self.Stp} | At+1: {self.Atp} | isTerminal: {self.isTerminal} | ID: {self.ID} | relevance: {self.relevance} | birthdate: {self.birthdate}\"\n"
      ],
      "execution_count": 10,
      "outputs": []
    },
    {
      "cell_type": "code",
      "metadata": {
        "id": "U0MekkdZg_wz",
        "colab": {
          "base_uri": "https://localhost:8080/"
        },
        "outputId": "1473b2be-b786-4208-e5cb-7a282f85819a"
      },
      "source": [
        "\"\"\" Test class Transition \"\"\"\n",
        "\n",
        "St = np.random.random(5)\n",
        "At = None\n",
        "Rt = random.random()\n",
        "Stp = np.random.random(5)\n",
        "Atp = 1\n",
        "transition = Transition(St, At, Rt, Stp, Atp)\n",
        "print(transition)"
      ],
      "execution_count": 11,
      "outputs": [
        {
          "output_type": "stream",
          "text": [
            "[Transition] St: [0.73448459 0.3948011  0.48994627 0.87763562 0.54040704] | At: None | Rt: 0.10029900393626556 | St+1: [0.93141084 0.68616775 0.69149702 0.79899137 0.42958499] | At+1: 1 | isTerminal: False | ID: None | relevance: None | birthdate: -1\n"
          ],
          "name": "stdout"
        }
      ]
    },
    {
      "cell_type": "code",
      "metadata": {
        "id": "2C_afWY2lFTG"
      },
      "source": [
        "\n",
        "class ExperienceReplay():\n",
        "  def __init__(self, bufferSize=1000, batchSize=256, weightedBatches=True, sortTransition=False):\n",
        "    self.transitions = []\n",
        "    self.bufferSize = bufferSize\n",
        "    self.IDnumber = 0\n",
        "    self.batchSize = batchSize\n",
        "    self.weightedBatches=True\n",
        "    self.sortTransition = sortTransition\n",
        "\n",
        "  def addTransition(self, transition) :\n",
        "    if (len(self.transitions) > self.bufferSize): self._removeTransition(1)\n",
        "    self.transitions.append(transition)\n",
        "    if (self.sortTransition) : self.transitions.sort(key=lambda t:t.relevance if (t.relevance is not None) else 42)\n",
        "\n",
        "  def _removeTransition(self, n) :\n",
        "    self.transitions.pop(0)\n",
        "\n",
        "  def sampleBatch(self) :\n",
        "    if (len(self.transitions) == 0): return []\n",
        "    if not(self.weightedBatches) :\n",
        "      batch = random.choices(self.transitions, k=min(self.batchSize, len(self.transitions)))\n",
        "      batch = list(set(batch))\n",
        "      return batch\n",
        "    else :\n",
        "      weights = [transition.relevance for transition in self.transitions]\n",
        "      nonNoneWeights = [weight for weight in weights if (weight is not None)]\n",
        "      if (len(nonNoneWeights) == 0): maxWeight = 1\n",
        "      else : maxWeight = max(nonNoneWeights)\n",
        "      weights = [weight if (weight is not None) else maxWeight for weight in weights]\n",
        "      batch = random.choices(self.transitions, k=min(self.batchSize, len(self.transitions)), weights=weights)\n",
        "      batch = list(set(batch))\n",
        "      return batch\n",
        "\n",
        "  def flush(self):\n",
        "    self.transitions = []"
      ],
      "execution_count": 12,
      "outputs": []
    },
    {
      "cell_type": "code",
      "metadata": {
        "id": "U2M5uqxslcIr",
        "colab": {
          "base_uri": "https://localhost:8080/"
        },
        "outputId": "a28bd7ab-189b-4b59-9129-e15f02749b8a"
      },
      "source": [
        "ER = ExperienceReplay(batchSize=3)\n",
        "for _ in range(10):\n",
        "  rand = random.random()\n",
        "  if random.random() < 0.7 :\n",
        "    newT = Transition(None, None, None, None, None, relevance=rand*rand*rand)\n",
        "  else :\n",
        "    newT = Transition(None, None, None, None, None, relevance=None)\n",
        "  ER.addTransition(newT)\n",
        "\n",
        "for t in ER.transitions :\n",
        "  print(\"\\t rel : \", t.relevance)\n",
        "\n",
        "batch = ER.sampleBatch()\n",
        "\n",
        "print(\"\\nbatch\")\n",
        "for t in batch :\n",
        "  print(\"\\t rel : \", t.relevance)\n",
        "\n"
      ],
      "execution_count": 14,
      "outputs": [
        {
          "output_type": "stream",
          "text": [
            "\t rel :  0.8801347850580818\n",
            "\t rel :  None\n",
            "\t rel :  None\n",
            "\t rel :  0.6442655830119488\n",
            "\t rel :  0.6691663575569339\n",
            "\t rel :  None\n",
            "\t rel :  None\n",
            "\t rel :  None\n",
            "\t rel :  None\n",
            "\t rel :  None\n",
            "\n",
            "batch\n",
            "\t rel :  0.6691663575569339\n",
            "\t rel :  0.6442655830119488\n",
            "\t rel :  None\n"
          ],
          "name": "stdout"
        }
      ]
    },
    {
      "cell_type": "markdown",
      "metadata": {
        "id": "7TsBJtoJlFiv"
      },
      "source": [
        "# 6. [Class] Learner"
      ]
    },
    {
      "cell_type": "code",
      "metadata": {
        "id": "-fqoYj9nlGaL"
      },
      "source": [
        "\"\"\" Define class Learner \"\"\"\n",
        "\n",
        "class Learner():\n",
        "  def __init__(self, qNetwork, stateSpace, actionSpace, gamma=1, algorithm=\"SARSA\"):\n",
        "    self.stateSpace = stateSpace\n",
        "    self.actionSpace = actionSpace\n",
        "\n",
        "    self.qNetwork_target = qNetwork\n",
        "    self.qNetwork_target.train()\n",
        "\n",
        "    self.qNetwork_targetFrozen = copy.deepcopy(self.qNetwork_target)\n",
        "    self.qNetwork_targetFrozen.eval()\n",
        "\n",
        "    self.gamma = gamma\n",
        "    self.algorithm=algorithm\n",
        "    # self.optimizer = torch.optim.SGD(self.qNetwork.parameters(), lr=0.001, momentum=0.99)\n",
        "    self.optimizer = torch.optim.Adam(self.qNetwork_target.parameters())\n",
        "\n",
        "  def _cleanBatch(self, batch):\n",
        "    \"\"\" Remove all unusable transitions \"\"\"\n",
        "    validityList = [transition.isValid() for transition in batch]\n",
        "    popIndices = [index for (index, valid) in enumerate(validityList) if valid == False]\n",
        "    for popIndex in popIndices[::-1]: batch.pop(popIndex) # Pop transitions from end to start to keep validity of other indices\n",
        "    return batch\n",
        "\n",
        "  def _computeTarget(self, Stp, Atp, Rt, areTerminal, verbose=False):\n",
        "    if verbose : print(f\"Algorithm : {self.algorithm}\")\n",
        "    if (self.algorithm == \"SARSA\") : # SARSA\n",
        "      self.qNetwork_targetFrozen.eval()\n",
        "      target = self.qNetwork_targetFrozen.Q(Stp, Atp)\n",
        "      if (verbose) : print(\"Qf_Stp_Atp : \", target)\n",
        "    elif (self.algorithm == \"QLEARNING\") : # Q-learning\n",
        "      self.qNetwork_targetFrozen.eval()\n",
        "      Q_Stp = self.qNetwork_targetFrozen.Q(Stp)\n",
        "      if verbose : print(f\"Qf_Stp : {Q_Stp}\")\n",
        "      target = torch.max(Q_Stp, dim=1)[0]\n",
        "    target = torch.stack([t.detach() for t in target]) # Detach the gradient -> Semi-gradient methods\n",
        "    target = [float(elt) for elt in target]    \n",
        "    target = torch.tensor(target)\n",
        "    Rt = torch.as_tensor(Rt)\n",
        "    if verbose : print(f\"gamma : {self.gamma}\")\n",
        "    target = Rt + self.gamma * target\n",
        "    target = torch.stack([t if not(isTerminal) else torch.as_tensor(0) for (t, isTerminal) in zip(target, areTerminal)]) # Force value of terminal transtion at 0\n",
        "    # target = torch.stack([t if not(isTerminal) else torch.as_tensor(-1) for (t, isTerminal) in zip(target, areTerminal)]) # Force value of terminal transtion at 0\n",
        "    return target\n",
        "\n",
        "  def learn(self, batch, verbose=False):\n",
        "    \"\"\" Learns from <batch> using algo \"SARSA\" or \"QLEARNING\"\n",
        "\n",
        "    SARSA : Q(St, At) <- Q(St, At) + alpha * [Rt+1 + gamma * Q(St+1, At+1) - Q(St, At)]\n",
        "\n",
        "    Q-Learning : Q(St, At) <- Q(St, At) + alpha * [Rt+1 + gamma * max(Q(St+1, a)) - Q(St, At)] \"\"\"\n",
        "\n",
        "    # <batch> is a [list] of transitions. A transition contains (St, At, Rt, St+1, At+1)\n",
        "    assert isinstance(batch, list), \"[Error] Type of <batch> is not handled by the learner.\"\n",
        "    for element in batch :\n",
        "      assert isinstance(element, Transition), \"[Error] Element of <batch> is not a Transition\"\n",
        "\n",
        "    batch = self._cleanBatch(batch)\n",
        "    if (len(batch) == 0) :\n",
        "      print(\"Empty batch\")\n",
        "      return -1\n",
        "    if verbose : print(f\"batch : {batch}\")\n",
        "\n",
        "    St = [transition.St for transition in batch]\n",
        "    At = [transition.At for transition in batch]\n",
        "    Rt = [transition.Rt for transition in batch]\n",
        "    Stp = [transition.Stp for transition in batch]\n",
        "    Atp = [transition.Atp for transition in batch]\n",
        "    areTerminal = [transition.isTerminal for transition in batch]\n",
        "\n",
        "    if verbose : print(f\"\\tSt : {St}\\n\\tAt : {At}\\n\\tRt : {Rt}\\n\\tStp : {Stp}\\n\\tAtp : {Atp}\\n\\tterminal : {areTerminal}\")\n",
        "\n",
        "      # Compute Q(St, At) and Q(St+1, At+1)\n",
        "    self.qNetwork_target.train()\n",
        "    Q_St_At = self.qNetwork_target.Q(St, At, verbose=False)\n",
        "    if (verbose) : print(\"Q_St_At : \", Q_St_At)\n",
        "\n",
        "    target = self._computeTarget(Stp, Atp, Rt, areTerminal, verbose=verbose)\n",
        "    if verbose : print(f\"target : {target}\")\n",
        "\n",
        "      # Computing errors\n",
        "    errors = torch.square(target - Q_St_At)\n",
        "    if (verbose) : print(f\"errors : {errors}\")\n",
        "    loss = torch.sum(errors) / errors.size()[0]\n",
        "    if (verbose) : print(f\"loss : {loss}\")\n",
        "    self.optimizer.zero_grad()\n",
        "    loss.backward()\n",
        "    stepVal = self.optimizer.step()\n",
        "\n",
        "    relevances = [x.item() for x in errors]\n",
        "    for transition, relevance in zip(batch, relevances) :\n",
        "      transition.relevance = relevance\n",
        "\n",
        "    return loss.item()\n",
        "\n",
        "  def updateFrozenTarget(self):\n",
        "    self.qNetwork_targetFrozen = copy.deepcopy(self.qNetwork_target)\n",
        "    self.qNetwork_targetFrozen.eval()\n"
      ],
      "execution_count": 17,
      "outputs": []
    },
    {
      "cell_type": "code",
      "metadata": {
        "id": "UYMggTral1E6"
      },
      "source": [
        "\"\"\" Prepare the visualization of the training \"\"\"\n",
        "\n",
        "model = QNetwork(env.observation_space, env.action_space)\n",
        "doer = Doer(model, env.observation_space, env.action_space, epsilon=0.20)\n",
        "learner = Learner(model, env.observation_space, env.action_space, gamma=0.9)\n",
        "ER = ExperienceReplay()\n",
        "\n",
        "state_0 = env.reset()\n",
        "action_0 = None\n",
        "\n",
        "action_1 = doer.act(state_0)\n",
        "state_1, reward_1, terminal_1, info = env.step(action_1)\n",
        "\n",
        "transition_0 = Transition(state_0, action_0, reward_1, state_1, action_1, isTerminal=terminal_1)\n",
        "ER.addTransition(transition_0)\n",
        "\n",
        "action_2 = doer.act(state_1)\n",
        "state_2, reward_2, terminal_2, info = env.step(action_2)\n",
        "\n",
        "transition_1 = Transition(state_1, action_1, reward_2, state_2, action_2, isTerminal=terminal_2)\n",
        "ER.addTransition(transition_1)\n",
        "\n",
        "batch = [transition_0, transition_1]"
      ],
      "execution_count": 16,
      "outputs": []
    },
    {
      "cell_type": "code",
      "metadata": {
        "colab": {
          "base_uri": "https://localhost:8080/"
        },
        "id": "Z3ViDXQO8KyQ",
        "outputId": "e174a5e1-4174-4703-a9c8-6d2c82c15e52"
      },
      "source": [
        "\"\"\" Show the target and targetFrozen networks used by the learner are different after training \"\"\"\n",
        "\n",
        "print(\"Before train :\")\n",
        "learner.qNetwork_target.eval()\n",
        "print(f\"\\t{learner.qNetwork_target.Q([state_1], [action_1])}\")\n",
        "learner.qNetwork_targetFrozen.eval()\n",
        "print(f\"\\t{learner.qNetwork_targetFrozen.Q([state_1], [action_1])}\")\n",
        "\n",
        "loss = learner.learn(batch, verbose=True)\n",
        "\n",
        "print(\"After train :\")\n",
        "learner.qNetwork_target.eval()\n",
        "print(f\"\\t{learner.qNetwork_target.Q([state_1], [action_1])}\")\n",
        "learner.qNetwork_target.train()\n",
        "print(f\"\\t{learner.qNetwork_targetFrozen.Q([state_1], [action_1])}\")\n",
        "\n",
        "# Their difference increase the more we train on the same batch\n",
        "for _ in range(10):\n",
        "  print(f\"\\nStep {_}, loss = {loss}\")\n",
        "  learner.qNetwork_target.eval()\n",
        "  print(f\"\\tTarget : {learner.qNetwork_target.Q([state_1], [action_1])}\")\n",
        "  learner.qNetwork_target.train()\n",
        "  print(f\"\\tFrozen : {learner.qNetwork_targetFrozen.Q([state_1], [action_1])}\")\n",
        "  doer.qNetwork.eval()\n",
        "  print(f\"\\tDoer : {doer.qNetwork.Q([state_1], [action_1])}\")\n",
        "\n",
        "  loss = learner.learn(batch, verbose=False)\n",
        "\n",
        "# Eventually, the learned balue corresponds to the target\n",
        "for _ in range(100):\n",
        "  loss = learner.learn(batch, verbose=False)\n",
        "\n",
        "print(f\"\\nStep n, loss : {loss}\")\n",
        "learner.qNetwork_target.eval()\n",
        "print(f\"\\t{learner.qNetwork_target.Q([state_1], [action_1])}\")\n",
        "learner.qNetwork_target.train()\n",
        "print(f\"\\t{learner.qNetwork_targetFrozen.Q([state_1], [action_1])}\")\n",
        "\n",
        "loss = learner.learn(batch, verbose=True)"
      ],
      "execution_count": 18,
      "outputs": [
        {
          "output_type": "stream",
          "text": [
            "Before train :\n",
            "\ttensor([0.4175], grad_fn=<StackBackward>)\n",
            "\ttensor([0.4175], grad_fn=<StackBackward>)\n",
            "batch : [<__main__.Transition object at 0x7fa8204f5cf8>]\n",
            "\tSt : [array([-0.03513205,  0.23585893, -0.0050569 , -0.29628787])]\n",
            "\tAt : [1]\n",
            "\tRt : [1.0]\n",
            "\tStp : [array([-0.03041487,  0.04080943, -0.01098265, -0.00520409])]\n",
            "\tAtp : [0]\n",
            "\tterminal : [False]\n",
            "Q_St_At :  tensor([0.3693], grad_fn=<StackBackward>)\n",
            "Algorithm : SARSA\n",
            "Qf_Stp_Atp :  tensor([-0.0621], grad_fn=<StackBackward>)\n",
            "gamma : 0.9\n",
            "target : tensor([0.9441])\n",
            "errors : tensor([0.3303], grad_fn=<PowBackward0>)\n",
            "loss : 0.330344021320343\n",
            "After train :\n",
            "\ttensor([0.4869], grad_fn=<StackBackward>)\n",
            "\ttensor([0.4175], grad_fn=<StackBackward>)\n",
            "\n",
            "Step 0, loss = 0.330344021320343\n",
            "\tTarget : tensor([0.4869], grad_fn=<StackBackward>)\n",
            "\tFrozen : tensor([0.4175], grad_fn=<StackBackward>)\n",
            "\tDoer : tensor([0.4869], grad_fn=<StackBackward>)\n",
            "\n",
            "Step 1, loss = 0.2832857370376587\n",
            "\tTarget : tensor([0.5658], grad_fn=<StackBackward>)\n",
            "\tFrozen : tensor([0.4175], grad_fn=<StackBackward>)\n",
            "\tDoer : tensor([0.5658], grad_fn=<StackBackward>)\n",
            "\n",
            "Step 2, loss = 0.11189942806959152\n",
            "\tTarget : tensor([0.6467], grad_fn=<StackBackward>)\n",
            "\tFrozen : tensor([0.4175], grad_fn=<StackBackward>)\n",
            "\tDoer : tensor([0.6467], grad_fn=<StackBackward>)\n",
            "\n",
            "Step 3, loss = 0.08602546900510788\n",
            "\tTarget : tensor([0.7281], grad_fn=<StackBackward>)\n",
            "\tFrozen : tensor([0.4175], grad_fn=<StackBackward>)\n",
            "\tDoer : tensor([0.7281], grad_fn=<StackBackward>)\n",
            "\n",
            "Step 4, loss = 0.06696690618991852\n",
            "\tTarget : tensor([0.8079], grad_fn=<StackBackward>)\n",
            "\tFrozen : tensor([0.4175], grad_fn=<StackBackward>)\n",
            "\tDoer : tensor([0.8079], grad_fn=<StackBackward>)\n",
            "\n",
            "Step 5, loss = 0.022355154156684875\n",
            "\tTarget : tensor([0.8846], grad_fn=<StackBackward>)\n",
            "\tFrozen : tensor([0.4175], grad_fn=<StackBackward>)\n",
            "\tDoer : tensor([0.8846], grad_fn=<StackBackward>)\n",
            "\n",
            "Step 6, loss = 0.022334538400173187\n",
            "\tTarget : tensor([0.9593], grad_fn=<StackBackward>)\n",
            "\tFrozen : tensor([0.4175], grad_fn=<StackBackward>)\n",
            "\tDoer : tensor([0.9593], grad_fn=<StackBackward>)\n",
            "\n",
            "Step 7, loss = 0.0016921089263632894\n",
            "\tTarget : tensor([1.0277], grad_fn=<StackBackward>)\n",
            "\tFrozen : tensor([0.4175], grad_fn=<StackBackward>)\n",
            "\tDoer : tensor([1.0277], grad_fn=<StackBackward>)\n",
            "\n",
            "Step 8, loss = 0.01769038289785385\n",
            "\tTarget : tensor([1.0794], grad_fn=<StackBackward>)\n",
            "\tFrozen : tensor([0.4175], grad_fn=<StackBackward>)\n",
            "\tDoer : tensor([1.0794], grad_fn=<StackBackward>)\n",
            "\n",
            "Step 9, loss = 0.01265416108071804\n",
            "\tTarget : tensor([1.1186], grad_fn=<StackBackward>)\n",
            "\tFrozen : tensor([0.4175], grad_fn=<StackBackward>)\n",
            "\tDoer : tensor([1.1186], grad_fn=<StackBackward>)\n",
            "\n",
            "Step n, loss : 0.00014600594295188785\n",
            "\ttensor([0.9236], grad_fn=<StackBackward>)\n",
            "\ttensor([0.4175], grad_fn=<StackBackward>)\n",
            "batch : [<__main__.Transition object at 0x7fa8204f5cf8>]\n",
            "\tSt : [array([-0.03513205,  0.23585893, -0.0050569 , -0.29628787])]\n",
            "\tAt : [1]\n",
            "\tRt : [1.0]\n",
            "\tStp : [array([-0.03041487,  0.04080943, -0.01098265, -0.00520409])]\n",
            "\tAtp : [0]\n",
            "\tterminal : [False]\n",
            "Q_St_At :  tensor([0.9521], grad_fn=<StackBackward>)\n",
            "Algorithm : SARSA\n",
            "Qf_Stp_Atp :  tensor([-0.0621], grad_fn=<StackBackward>)\n",
            "gamma : 0.9\n",
            "target : tensor([0.9441])\n",
            "errors : tensor([6.3913e-05], grad_fn=<PowBackward0>)\n",
            "loss : 6.391255010385066e-05\n"
          ],
          "name": "stdout"
        }
      ]
    },
    {
      "cell_type": "code",
      "metadata": {
        "colab": {
          "base_uri": "https://localhost:8080/"
        },
        "id": "ckInwCfL8_uH",
        "outputId": "6ef7d16f-d8fb-46c8-ecf7-57c62d4f6506"
      },
      "source": [
        "\"\"\" Show the frozen network catches up with the target when weights are shared again \"\"\"\n",
        "\n",
        "print(\"Before catching up :\")\n",
        "learner.qNetwork_target.eval()\n",
        "print(f\"\\tLearner (qNetwork) : {learner.qNetwork_target.Q([state_1], [action_1])}\")\n",
        "learner.qNetwork_target.train()\n",
        "print(f\"\\tLearner (Frozen) : {learner.qNetwork_targetFrozen.Q([state_1], [action_1])}\")\n",
        "doer.qNetwork.eval()\n",
        "print(f\"\\tDoer : {doer.qNetwork.Q([state_1], [action_1])}\")\n",
        "\n",
        "learner.updateFrozenTarget()\n",
        "\n",
        "print(\"After catching up :\")\n",
        "learner.qNetwork_target.eval()\n",
        "print(f\"\\tLearner (qNetwork) : {learner.qNetwork_target.Q([state_1], [action_1])}\")\n",
        "learner.qNetwork_target.train()\n",
        "print(f\"\\tLearnerFrozen : {learner.qNetwork_targetFrozen.Q([state_1], [action_1])}\")\n",
        "doer.qNetwork.eval()\n",
        "print(f\"\\tDoer : {doer.qNetwork.Q([state_1], [action_1])}\")\n",
        "\n"
      ],
      "execution_count": 19,
      "outputs": [
        {
          "output_type": "stream",
          "text": [
            "Before catching up :\n",
            "\tLearner (qNetwork) : tensor([0.9248], grad_fn=<StackBackward>)\n",
            "\tLearner (Frozen) : tensor([0.4175], grad_fn=<StackBackward>)\n",
            "\tDoer : tensor([0.9248], grad_fn=<StackBackward>)\n",
            "After catching up :\n",
            "\tLearner (qNetwork) : tensor([0.9248], grad_fn=<StackBackward>)\n",
            "\tLearnerFrozen : tensor([0.9248], grad_fn=<StackBackward>)\n",
            "\tDoer : tensor([0.9248], grad_fn=<StackBackward>)\n"
          ],
          "name": "stdout"
        }
      ]
    },
    {
      "cell_type": "markdown",
      "metadata": {
        "id": "vFo_XQhflfqr"
      },
      "source": [
        "# 7. Training Loop"
      ]
    },
    {
      "cell_type": "code",
      "metadata": {
        "id": "YeqiNlkRAq45"
      },
      "source": [
        "\"\"\" Initialise training \"\"\"\n",
        "\n",
        "qNetwork = QNetwork(env.observation_space, env.action_space, width=256, dropoutRate=0.2)\n",
        "doer = Doer(qNetwork, env.observation_space, env.action_space, epsilon=0.3)\n",
        "# doer = Doer_Random(model, env.observation_space, env.action_space, epsilon=1) # Random agent. How well does it perform ?\n",
        "learner = Learner(qNetwork, env.observation_space, env.action_space, gamma=0.90, algorithm=\"QLEARNING\") # \"SARSA\" or \"QLEARNING\"\n",
        "ERs = []\n",
        "ERs.append(ExperienceReplay(bufferSize=1024, batchSize=64, sortTransition=False, weightedBatches=True))\n",
        "ERs.append(ExperienceReplay(bufferSize=1024, batchSize=64, sortTransition=False, weightedBatches=False))\n",
        "ERs.append(ExperienceReplay(bufferSize=1024, batchSize=32, sortTransition=True, weightedBatches=True))\n",
        "ERs.append(ExperienceReplay(bufferSize=1024, batchSize=32, sortTransition=True, weightedBatches=False))\n",
        "\n",
        "state = env.reset()\n",
        "action = None\n",
        "\n",
        "episodeStartDate = 0\n",
        "theta = 0.98 # Filter\n",
        "score = None\n",
        "epRewards = []\n",
        "scores = []\n",
        "iteration = 0\n"
      ],
      "execution_count": 52,
      "outputs": []
    },
    {
      "cell_type": "code",
      "metadata": {
        "id": "6PTunBn6lhK6",
        "colab": {
          "base_uri": "https://localhost:8080/",
          "height": 1000
        },
        "outputId": "8b450f96-58a2-4e78-fac3-284e00d6dac4"
      },
      "source": [
        "\"\"\" Training loop \"\"\"\n",
        "\n",
        "while True:\n",
        "  iteration += 1\n",
        "  previousAction = action\n",
        "  action = doer.act(state)\n",
        "  previousState = state\n",
        "  state, reward, done, info = env.step(action)\n",
        "  \n",
        "  reward = -1 if done else 0.1 # Reward shaping. Also adapt the doe of the learner.\n",
        "  transition = Transition(previousState, previousAction, reward, state, action, isTerminal=done, birthdate=_)\n",
        "\n",
        "  loss = 0\n",
        "  for ER in ERs :\n",
        "    ER.addTransition(transition)\n",
        "    batch = ER.sampleBatch()\n",
        "    loss += learner.learn(batch)\n",
        "  loss /= len(ERs)\n",
        "\n",
        "  if (iteration == 1): # Set up filtered measures\n",
        "    floss = loss\n",
        "  else : # Update filtered measures\n",
        "    floss = theta * floss + (1-theta) * loss\n",
        "\n",
        "  if (iteration % 100 == 0): # Every once in a while\n",
        "    print(f\"Iteration {iteration} \\t| floss : {round(floss, 5)}\\t| Score: {round(score, 3)}\\t| eps: {round(doer.epsilon, 5)}\")\n",
        "    doer.epsilon = max(doer.epsilon / 1.2, 0.1)\n",
        "\n",
        "  if (iteration % 100 == 0):\n",
        "    learner.updateFrozenTarget() # Update frozen target network\n",
        "    # doer.qNetwork = learner.qNetwork_targetFrozen # Force the doer to use frozen network\n",
        "\n",
        "  if done: # When episode is over\n",
        "    state = env.reset()\n",
        "    epLength = iteration - episodeStartDate\n",
        "    if (score == None) : score = epLength\n",
        "    else : score = theta * score + (1 - theta) * epLength\n",
        "    scores.append(score)\n",
        "    epRewards.append(epLength)\n",
        "    episodeStartDate = iteration\n"
      ],
      "execution_count": 53,
      "outputs": [
        {
          "output_type": "stream",
          "text": [
            "Empty batch\n",
            "Empty batch\n",
            "Empty batch\n",
            "Empty batch\n",
            "Empty batch\n",
            "Iteration 100 \t| floss : -0.06768\t| Score: 9.992\t| eps: 0.3\n",
            "Iteration 200 \t| floss : 0.07247\t| Score: 10.989\t| eps: 0.25\n",
            "Iteration 300 \t| floss : 0.05653\t| Score: 11.82\t| eps: 0.20833\n",
            "Iteration 400 \t| floss : 0.02876\t| Score: 12.749\t| eps: 0.17361\n",
            "Iteration 500 \t| floss : 0.04176\t| Score: 13.799\t| eps: 0.14468\n",
            "Iteration 600 \t| floss : 0.0288\t| Score: 14.851\t| eps: 0.12056\n",
            "Iteration 700 \t| floss : 0.01624\t| Score: 15.704\t| eps: 0.10047\n",
            "Iteration 800 \t| floss : 0.0293\t| Score: 15.908\t| eps: 0.1\n",
            "Iteration 900 \t| floss : 0.02424\t| Score: 16.387\t| eps: 0.1\n",
            "Iteration 1000 \t| floss : 0.01538\t| Score: 16.335\t| eps: 0.1\n",
            "Iteration 1100 \t| floss : 0.0139\t| Score: 16.68\t| eps: 0.1\n",
            "Iteration 1200 \t| floss : 0.02217\t| Score: 17.443\t| eps: 0.1\n",
            "Iteration 1300 \t| floss : 0.02163\t| Score: 18.837\t| eps: 0.1\n",
            "Iteration 1400 \t| floss : 0.02164\t| Score: 18.16\t| eps: 0.1\n",
            "Iteration 1500 \t| floss : 0.02159\t| Score: 18.097\t| eps: 0.1\n",
            "Iteration 1600 \t| floss : 0.02323\t| Score: 20.34\t| eps: 0.1\n",
            "Iteration 1700 \t| floss : 0.03198\t| Score: 20.96\t| eps: 0.1\n",
            "Iteration 1800 \t| floss : 0.03002\t| Score: 22.952\t| eps: 0.1\n",
            "Iteration 1900 \t| floss : 0.02203\t| Score: 23.873\t| eps: 0.1\n",
            "Iteration 2000 \t| floss : 0.02726\t| Score: 25.055\t| eps: 0.1\n",
            "Iteration 2100 \t| floss : 0.02708\t| Score: 25.756\t| eps: 0.1\n",
            "Iteration 2200 \t| floss : 0.0277\t| Score: 27.08\t| eps: 0.1\n",
            "Iteration 2300 \t| floss : 0.02267\t| Score: 27.899\t| eps: 0.1\n",
            "Iteration 2400 \t| floss : 0.02326\t| Score: 27.479\t| eps: 0.1\n",
            "Iteration 2500 \t| floss : 0.02609\t| Score: 28.321\t| eps: 0.1\n",
            "Iteration 2600 \t| floss : 0.02462\t| Score: 30.074\t| eps: 0.1\n",
            "Iteration 2700 \t| floss : 0.0191\t| Score: 30.074\t| eps: 0.1\n",
            "Iteration 2800 \t| floss : 0.01678\t| Score: 32.573\t| eps: 0.1\n",
            "Iteration 2900 \t| floss : 0.01856\t| Score: 32.573\t| eps: 0.1\n",
            "Iteration 3000 \t| floss : 0.02321\t| Score: 34.607\t| eps: 0.1\n",
            "Iteration 3100 \t| floss : 0.01845\t| Score: 34.675\t| eps: 0.1\n",
            "Iteration 3200 \t| floss : 0.02079\t| Score: 34.675\t| eps: 0.1\n",
            "Iteration 3300 \t| floss : 0.039\t| Score: 36.76\t| eps: 0.1\n",
            "Iteration 3400 \t| floss : 0.02283\t| Score: 36.76\t| eps: 0.1\n",
            "Iteration 3500 \t| floss : 0.02311\t| Score: 39.227\t| eps: 0.1\n",
            "Iteration 3600 \t| floss : 0.01719\t| Score: 39.144\t| eps: 0.1\n",
            "Iteration 3700 \t| floss : 0.02567\t| Score: 40.221\t| eps: 0.1\n",
            "Iteration 3800 \t| floss : 0.0443\t| Score: 38.959\t| eps: 0.1\n",
            "Iteration 3900 \t| floss : 0.02707\t| Score: 38.23\t| eps: 0.1\n",
            "Iteration 4000 \t| floss : 0.0198\t| Score: 39.505\t| eps: 0.1\n",
            "Iteration 4100 \t| floss : 0.01601\t| Score: 41.015\t| eps: 0.1\n",
            "Iteration 4200 \t| floss : 0.01924\t| Score: 43.135\t| eps: 0.1\n",
            "Iteration 4300 \t| floss : 0.01319\t| Score: 42.333\t| eps: 0.1\n",
            "Iteration 4400 \t| floss : 0.01118\t| Score: 42.333\t| eps: 0.1\n",
            "Iteration 4500 \t| floss : 0.01605\t| Score: 45.075\t| eps: 0.1\n",
            "Iteration 4600 \t| floss : 0.01935\t| Score: 44.415\t| eps: 0.1\n",
            "Iteration 4700 \t| floss : 0.01261\t| Score: 44.887\t| eps: 0.1\n",
            "Iteration 4800 \t| floss : 0.0132\t| Score: 47.029\t| eps: 0.1\n",
            "Iteration 4900 \t| floss : 0.01434\t| Score: 46.68\t| eps: 0.1\n",
            "Iteration 5000 \t| floss : 0.01321\t| Score: 48.326\t| eps: 0.1\n",
            "Iteration 5100 \t| floss : 0.01421\t| Score: 49.459\t| eps: 0.1\n",
            "Iteration 5200 \t| floss : 0.01264\t| Score: 47.678\t| eps: 0.1\n",
            "Iteration 5300 \t| floss : 0.01266\t| Score: 44.781\t| eps: 0.1\n",
            "Iteration 5400 \t| floss : 0.01787\t| Score: 43.179\t| eps: 0.1\n",
            "Iteration 5500 \t| floss : 0.01717\t| Score: 43.355\t| eps: 0.1\n",
            "Iteration 5600 \t| floss : 0.01813\t| Score: 43.149\t| eps: 0.1\n"
          ],
          "name": "stdout"
        },
        {
          "output_type": "error",
          "ename": "KeyboardInterrupt",
          "evalue": "ignored",
          "traceback": [
            "\u001b[0;31m---------------------------------------------------------------------------\u001b[0m",
            "\u001b[0;31mKeyboardInterrupt\u001b[0m                         Traceback (most recent call last)",
            "\u001b[0;32m<ipython-input-53-15c80e818a9a>\u001b[0m in \u001b[0;36m<module>\u001b[0;34m()\u001b[0m\n\u001b[1;32m     15\u001b[0m     \u001b[0mER\u001b[0m\u001b[0;34m.\u001b[0m\u001b[0maddTransition\u001b[0m\u001b[0;34m(\u001b[0m\u001b[0mtransition\u001b[0m\u001b[0;34m)\u001b[0m\u001b[0;34m\u001b[0m\u001b[0;34m\u001b[0m\u001b[0m\n\u001b[1;32m     16\u001b[0m     \u001b[0mbatch\u001b[0m \u001b[0;34m=\u001b[0m \u001b[0mER\u001b[0m\u001b[0;34m.\u001b[0m\u001b[0msampleBatch\u001b[0m\u001b[0;34m(\u001b[0m\u001b[0;34m)\u001b[0m\u001b[0;34m\u001b[0m\u001b[0;34m\u001b[0m\u001b[0m\n\u001b[0;32m---> 17\u001b[0;31m     \u001b[0mloss\u001b[0m \u001b[0;34m+=\u001b[0m \u001b[0mlearner\u001b[0m\u001b[0;34m.\u001b[0m\u001b[0mlearn\u001b[0m\u001b[0;34m(\u001b[0m\u001b[0mbatch\u001b[0m\u001b[0;34m)\u001b[0m\u001b[0;34m\u001b[0m\u001b[0;34m\u001b[0m\u001b[0m\n\u001b[0m\u001b[1;32m     18\u001b[0m   \u001b[0mloss\u001b[0m \u001b[0;34m/=\u001b[0m \u001b[0mlen\u001b[0m\u001b[0;34m(\u001b[0m\u001b[0mERs\u001b[0m\u001b[0;34m)\u001b[0m\u001b[0;34m\u001b[0m\u001b[0;34m\u001b[0m\u001b[0m\n\u001b[1;32m     19\u001b[0m \u001b[0;34m\u001b[0m\u001b[0m\n",
            "\u001b[0;32m<ipython-input-17-0bcf2ceed9eb>\u001b[0m in \u001b[0;36mlearn\u001b[0;34m(self, batch, verbose)\u001b[0m\n\u001b[1;32m     86\u001b[0m     \u001b[0;32mif\u001b[0m \u001b[0;34m(\u001b[0m\u001b[0mverbose\u001b[0m\u001b[0;34m)\u001b[0m \u001b[0;34m:\u001b[0m \u001b[0mprint\u001b[0m\u001b[0;34m(\u001b[0m\u001b[0;34mf\"loss : {loss}\"\u001b[0m\u001b[0;34m)\u001b[0m\u001b[0;34m\u001b[0m\u001b[0;34m\u001b[0m\u001b[0m\n\u001b[1;32m     87\u001b[0m     \u001b[0mself\u001b[0m\u001b[0;34m.\u001b[0m\u001b[0moptimizer\u001b[0m\u001b[0;34m.\u001b[0m\u001b[0mzero_grad\u001b[0m\u001b[0;34m(\u001b[0m\u001b[0;34m)\u001b[0m\u001b[0;34m\u001b[0m\u001b[0;34m\u001b[0m\u001b[0m\n\u001b[0;32m---> 88\u001b[0;31m     \u001b[0mloss\u001b[0m\u001b[0;34m.\u001b[0m\u001b[0mbackward\u001b[0m\u001b[0;34m(\u001b[0m\u001b[0;34m)\u001b[0m\u001b[0;34m\u001b[0m\u001b[0;34m\u001b[0m\u001b[0m\n\u001b[0m\u001b[1;32m     89\u001b[0m     \u001b[0mstepVal\u001b[0m \u001b[0;34m=\u001b[0m \u001b[0mself\u001b[0m\u001b[0;34m.\u001b[0m\u001b[0moptimizer\u001b[0m\u001b[0;34m.\u001b[0m\u001b[0mstep\u001b[0m\u001b[0;34m(\u001b[0m\u001b[0;34m)\u001b[0m\u001b[0;34m\u001b[0m\u001b[0;34m\u001b[0m\u001b[0m\n\u001b[1;32m     90\u001b[0m \u001b[0;34m\u001b[0m\u001b[0m\n",
            "\u001b[0;32m/usr/local/lib/python3.6/dist-packages/torch/tensor.py\u001b[0m in \u001b[0;36mbackward\u001b[0;34m(self, gradient, retain_graph, create_graph)\u001b[0m\n\u001b[1;32m    219\u001b[0m                 \u001b[0mretain_graph\u001b[0m\u001b[0;34m=\u001b[0m\u001b[0mretain_graph\u001b[0m\u001b[0;34m,\u001b[0m\u001b[0;34m\u001b[0m\u001b[0;34m\u001b[0m\u001b[0m\n\u001b[1;32m    220\u001b[0m                 create_graph=create_graph)\n\u001b[0;32m--> 221\u001b[0;31m         \u001b[0mtorch\u001b[0m\u001b[0;34m.\u001b[0m\u001b[0mautograd\u001b[0m\u001b[0;34m.\u001b[0m\u001b[0mbackward\u001b[0m\u001b[0;34m(\u001b[0m\u001b[0mself\u001b[0m\u001b[0;34m,\u001b[0m \u001b[0mgradient\u001b[0m\u001b[0;34m,\u001b[0m \u001b[0mretain_graph\u001b[0m\u001b[0;34m,\u001b[0m \u001b[0mcreate_graph\u001b[0m\u001b[0;34m)\u001b[0m\u001b[0;34m\u001b[0m\u001b[0;34m\u001b[0m\u001b[0m\n\u001b[0m\u001b[1;32m    222\u001b[0m \u001b[0;34m\u001b[0m\u001b[0m\n\u001b[1;32m    223\u001b[0m     \u001b[0;32mdef\u001b[0m \u001b[0mregister_hook\u001b[0m\u001b[0;34m(\u001b[0m\u001b[0mself\u001b[0m\u001b[0;34m,\u001b[0m \u001b[0mhook\u001b[0m\u001b[0;34m)\u001b[0m\u001b[0;34m:\u001b[0m\u001b[0;34m\u001b[0m\u001b[0;34m\u001b[0m\u001b[0m\n",
            "\u001b[0;32m/usr/local/lib/python3.6/dist-packages/torch/autograd/__init__.py\u001b[0m in \u001b[0;36mbackward\u001b[0;34m(tensors, grad_tensors, retain_graph, create_graph, grad_variables)\u001b[0m\n\u001b[1;32m    130\u001b[0m     Variable._execution_engine.run_backward(\n\u001b[1;32m    131\u001b[0m         \u001b[0mtensors\u001b[0m\u001b[0;34m,\u001b[0m \u001b[0mgrad_tensors_\u001b[0m\u001b[0;34m,\u001b[0m \u001b[0mretain_graph\u001b[0m\u001b[0;34m,\u001b[0m \u001b[0mcreate_graph\u001b[0m\u001b[0;34m,\u001b[0m\u001b[0;34m\u001b[0m\u001b[0;34m\u001b[0m\u001b[0m\n\u001b[0;32m--> 132\u001b[0;31m         allow_unreachable=True)  # allow_unreachable flag\n\u001b[0m\u001b[1;32m    133\u001b[0m \u001b[0;34m\u001b[0m\u001b[0m\n\u001b[1;32m    134\u001b[0m \u001b[0;34m\u001b[0m\u001b[0m\n",
            "\u001b[0;31mKeyboardInterrupt\u001b[0m: "
          ]
        }
      ]
    },
    {
      "cell_type": "markdown",
      "metadata": {
        "id": "zU9gNAZd6DKM"
      },
      "source": [
        "# Evaluation"
      ]
    },
    {
      "cell_type": "code",
      "metadata": {
        "id": "7VBDDsnSAPny",
        "colab": {
          "base_uri": "https://localhost:8080/",
          "height": 295
        },
        "outputId": "e217ef96-4567-49aa-f8cf-53dad828c9a3"
      },
      "source": [
        "\"\"\" Plot reward & score \"\"\"\n",
        "\n",
        "import matplotlib.pyplot as plt\n",
        "\n",
        "y1 = scores\n",
        "y2 = epRewards\n",
        "x  = list(range(len(y1)))\n",
        "plt.plot(x, y2, label=\"Reward\")\n",
        "plt.plot(x, y1, label=\"Score\")\n",
        "plt.plot()\n",
        "\n",
        "plt.xlabel(\"Episode\")\n",
        "plt.ylabel(\"Reward\")\n",
        "plt.title(\"Agent Performances\")\n",
        "plt.legend()\n",
        "plt.show()"
      ],
      "execution_count": 54,
      "outputs": [
        {
          "output_type": "display_data",
          "data": {
            "image/png": "[encoded data removed]",
            "text/plain": [
              "<Figure size 432x288 with 1 Axes>"
            ]
          },
          "metadata": {
            "tags": [],
            "needs_background": "light"
          }
        }
      ]
    },
    {
      "cell_type": "code",
      "metadata": {
        "colab": {
          "base_uri": "https://localhost:8080/"
        },
        "id": "VCprLzpksxf6",
        "outputId": "5a590594-eeb6-4f77-d945-5343042a14a8"
      },
      "source": [
        "\"\"\" Display the transitions of an episode \"\"\"\n",
        "\n",
        "state = env.reset()\n",
        "action = None\n",
        "while True :\n",
        "  previousAction = action\n",
        "  action = doer.act(state)\n",
        "  previousState = state\n",
        "  state, reward, done, info = env.step(action)\n",
        "  transition = Transition(previousState, previousAction, reward, state, action, isTerminal=done, birthdate=_)\n",
        "  print(f\"transition + qValues : {transition} \\t\\t{doer.qNetwork.Q([previousState])}\")\n",
        "  if done : break"
      ],
      "execution_count": 55,
      "outputs": [
        {
          "output_type": "stream",
          "text": [
            "transition + qValues : [Transition] St: [ 0.00534831 -0.02750229 -0.02574055 -0.0021304 ] | At: None | Rt: 1.0 | St+1: [ 0.00479827  0.16797918 -0.02578315 -0.30282236] | At+1: 1 | isTerminal: False | ID: None | relevance: None | birthdate: 99 \t\ttensor([[0.8713, 0.8777]], grad_fn=<PermuteBackward>)\n",
            "transition + qValues : [Transition] St: [ 0.00479827  0.16797918 -0.02578315 -0.30282236] | At: 1 | Rt: 1.0 | St+1: [ 0.00815785  0.36345892 -0.0318396  -0.60352392] | At+1: 1 | isTerminal: False | ID: None | relevance: None | birthdate: 99 \t\ttensor([[0.8707, 0.8774]], grad_fn=<PermuteBackward>)\n",
            "transition + qValues : [Transition] St: [ 0.00815785  0.36345892 -0.0318396  -0.60352392] | At: 1 | Rt: 1.0 | St+1: [ 0.01542703  0.16879641 -0.04391008 -0.32103741] | At+1: 0 | isTerminal: False | ID: None | relevance: None | birthdate: 99 \t\ttensor([[0.8753, 0.8745]], grad_fn=<PermuteBackward>)\n",
            "transition + qValues : [Transition] St: [ 0.01542703  0.16879641 -0.04391008 -0.32103741] | At: 0 | Rt: 1.0 | St+1: [ 0.01880296  0.36451528 -0.05033083 -0.62723815] | At+1: 1 | isTerminal: False | ID: None | relevance: None | birthdate: 99 \t\ttensor([[0.8735, 0.8769]], grad_fn=<PermuteBackward>)\n",
            "transition + qValues : [Transition] St: [ 0.01880296  0.36451528 -0.05033083 -0.62723815] | At: 1 | Rt: 1.0 | St+1: [ 0.02609326  0.17013062 -0.06287559 -0.35082141] | At+1: 0 | isTerminal: False | ID: None | relevance: None | birthdate: 99 \t\ttensor([[0.8757, 0.8663]], grad_fn=<PermuteBackward>)\n",
            "transition + qValues : [Transition] St: [ 0.02609326  0.17013062 -0.06287559 -0.35082141] | At: 0 | Rt: 1.0 | St+1: [ 0.02949588 -0.02404343 -0.06989202 -0.07860912] | At+1: 0 | isTerminal: False | ID: None | relevance: None | birthdate: 99 \t\ttensor([[0.8771, 0.8749]], grad_fn=<PermuteBackward>)\n",
            "transition + qValues : [Transition] St: [ 0.02949588 -0.02404343 -0.06989202 -0.07860912] | At: 0 | Rt: 1.0 | St+1: [ 0.02901501  0.17200723 -0.0714642  -0.39249867] | At+1: 1 | isTerminal: False | ID: None | relevance: None | birthdate: 99 \t\ttensor([[0.8760, 0.8767]], grad_fn=<PermuteBackward>)\n",
            "transition + qValues : [Transition] St: [ 0.02901501  0.17200723 -0.0714642  -0.39249867] | At: 1 | Rt: 1.0 | St+1: [ 0.03245515 -0.02203165 -0.07931418 -0.12317586] | At+1: 0 | isTerminal: False | ID: None | relevance: None | birthdate: 99 \t\ttensor([[0.8788, 0.8723]], grad_fn=<PermuteBackward>)\n",
            "transition + qValues : [Transition] St: [ 0.03245515 -0.02203165 -0.07931418 -0.12317586] | At: 0 | Rt: 1.0 | St+1: [ 0.03201452 -0.21593299 -0.08177769  0.14346786] | At+1: 0 | isTerminal: False | ID: None | relevance: None | birthdate: 99 \t\ttensor([[0.8772, 0.8758]], grad_fn=<PermuteBackward>)\n",
            "transition + qValues : [Transition] St: [ 0.03201452 -0.21593299 -0.08177769  0.14346786] | At: 0 | Rt: 1.0 | St+1: [ 0.02769586 -0.01974088 -0.07890833 -0.17385266] | At+1: 1 | isTerminal: False | ID: None | relevance: None | birthdate: 99 \t\ttensor([[0.8766, 0.8771]], grad_fn=<PermuteBackward>)\n",
            "transition + qValues : [Transition] St: [ 0.02769586 -0.01974088 -0.07890833 -0.17385266] | At: 1 | Rt: 1.0 | St+1: [ 0.02730104 -0.21365002 -0.08238539  0.09293101] | At+1: 0 | isTerminal: False | ID: None | relevance: None | birthdate: 99 \t\ttensor([[0.8779, 0.8752]], grad_fn=<PermuteBackward>)\n",
            "transition + qValues : [Transition] St: [ 0.02730104 -0.21365002 -0.08238539  0.09293101] | At: 0 | Rt: 1.0 | St+1: [ 0.02302804 -0.0174498  -0.08052677 -0.22456505] | At+1: 1 | isTerminal: False | ID: None | relevance: None | birthdate: 99 \t\ttensor([[0.8769, 0.8770]], grad_fn=<PermuteBackward>)\n",
            "transition + qValues : [Transition] St: [ 0.02302804 -0.0174498  -0.08052677 -0.22456505] | At: 1 | Rt: 1.0 | St+1: [ 0.02267904 -0.21133402 -0.08501807  0.04166957] | At+1: 0 | isTerminal: False | ID: None | relevance: None | birthdate: 99 \t\ttensor([[0.8787, 0.8743]], grad_fn=<PermuteBackward>)\n",
            "transition + qValues : [Transition] St: [ 0.02267904 -0.21133402 -0.08501807  0.04166957] | At: 0 | Rt: 1.0 | St+1: [ 0.01845236 -0.40514045 -0.08418468  0.30636399] | At+1: 0 | isTerminal: False | ID: None | relevance: None | birthdate: 99 \t\ttensor([[0.8773, 0.8766]], grad_fn=<PermuteBackward>)\n",
            "transition + qValues : [Transition] St: [ 0.01845236 -0.40514045 -0.08418468  0.30636399] | At: 0 | Rt: 1.0 | St+1: [ 0.01034956 -0.20892607 -0.0780574  -0.01163633] | At+1: 1 | isTerminal: False | ID: None | relevance: None | birthdate: 99 \t\ttensor([[0.8770, 0.8777]], grad_fn=<PermuteBackward>)\n",
            "transition + qValues : [Transition] St: [ 0.01034956 -0.20892607 -0.0780574  -0.01163633] | At: 1 | Rt: 1.0 | St+1: [ 0.00617103 -0.40284684 -0.07829012  0.25543353] | At+1: 0 | isTerminal: False | ID: None | relevance: None | birthdate: 99 \t\ttensor([[0.8774, 0.8767]], grad_fn=<PermuteBackward>)\n",
            "transition + qValues : [Transition] St: [ 0.00617103 -0.40284684 -0.07829012  0.25543353] | At: 0 | Rt: 1.0 | St+1: [-0.0018859  -0.20669944 -0.07318145 -0.06088012] | At+1: 1 | isTerminal: False | ID: None | relevance: None | birthdate: 99 \t\ttensor([[0.8772, 0.8778]], grad_fn=<PermuteBackward>)\n",
            "transition + qValues : [Transition] St: [-0.0018859  -0.20669944 -0.07318145 -0.06088012] | At: 1 | Rt: 1.0 | St+1: [-0.00601989 -0.40069998 -0.07439906  0.20784566] | At+1: 0 | isTerminal: False | ID: None | relevance: None | birthdate: 99 \t\ttensor([[0.8774, 0.8767]], grad_fn=<PermuteBackward>)\n",
            "transition + qValues : [Transition] St: [-0.00601989 -0.40069998 -0.07439906  0.20784566] | At: 0 | Rt: 1.0 | St+1: [-0.01403389 -0.20459739 -0.07024214 -0.10734766] | At+1: 1 | isTerminal: False | ID: None | relevance: None | birthdate: 99 \t\ttensor([[0.8773, 0.8778]], grad_fn=<PermuteBackward>)\n",
            "transition + qValues : [Transition] St: [-0.01403389 -0.20459739 -0.07024214 -0.10734766] | At: 1 | Rt: 1.0 | St+1: [-0.01812584 -0.00854282 -0.0723891  -0.42133852] | At+1: 1 | isTerminal: False | ID: None | relevance: None | birthdate: 99 \t\ttensor([[0.8776, 0.8767]], grad_fn=<PermuteBackward>)\n",
            "transition + qValues : [Transition] St: [-0.01812584 -0.00854282 -0.0723891  -0.42133852] | At: 1 | Rt: 1.0 | St+1: [-0.0182967  -0.20256849 -0.08081587 -0.15232604] | At+1: 0 | isTerminal: False | ID: None | relevance: None | birthdate: 99 \t\ttensor([[0.8801, 0.8729]], grad_fn=<PermuteBackward>)\n",
            "transition + qValues : [Transition] St: [-0.0182967  -0.20256849 -0.08081587 -0.15232604] | At: 0 | Rt: 1.0 | St+1: [-0.02234807 -0.39644584 -0.08386239  0.1138068 ] | At+1: 0 | isTerminal: False | ID: None | relevance: None | birthdate: 99 \t\ttensor([[0.8784, 0.8756]], grad_fn=<PermuteBackward>)\n",
            "transition + qValues : [Transition] St: [-0.02234807 -0.39644584 -0.08386239  0.1138068 ] | At: 0 | Rt: 1.0 | St+1: [-0.03027698 -0.59027226 -0.08158625  0.37889801] | At+1: 0 | isTerminal: False | ID: None | relevance: None | birthdate: 99 \t\ttensor([[0.8779, 0.8776]], grad_fn=<PermuteBackward>)\n",
            "transition + qValues : [Transition] St: [-0.03027698 -0.59027226 -0.08158625  0.37889801] | At: 0 | Rt: 1.0 | St+1: [-0.04208243 -0.39409218 -0.07400829  0.06164697] | At+1: 1 | isTerminal: False | ID: None | relevance: None | birthdate: 99 \t\ttensor([[0.8777, 0.8784]], grad_fn=<PermuteBackward>)\n",
            "transition + qValues : [Transition] St: [-0.04208243 -0.39409218 -0.07400829  0.06164697] | At: 1 | Rt: 1.0 | St+1: [-0.04996427 -0.58807929 -0.07277535  0.33009253] | At+1: 0 | isTerminal: False | ID: None | relevance: None | birthdate: 99 \t\ttensor([[0.8779, 0.8777]], grad_fn=<PermuteBackward>)\n",
            "transition + qValues : [Transition] St: [-0.04996427 -0.58807929 -0.07277535  0.33009253] | At: 0 | Rt: 1.0 | St+1: [-0.06172586 -0.3920009  -0.0661735   0.01537638] | At+1: 1 | isTerminal: False | ID: None | relevance: None | birthdate: 99 \t\ttensor([[0.8778, 0.8785]], grad_fn=<PermuteBackward>)\n",
            "transition + qValues : [Transition] St: [-0.06172586 -0.3920009  -0.0661735   0.01537638] | At: 1 | Rt: 1.0 | St+1: [-0.06956588 -0.19599541 -0.06586597 -0.29742917] | At+1: 1 | isTerminal: False | ID: None | relevance: None | birthdate: 99 \t\ttensor([[0.8779, 0.8779]], grad_fn=<PermuteBackward>)\n",
            "transition + qValues : [Transition] St: [-0.06956588 -0.19599541 -0.06586597 -0.29742917] | At: 1 | Rt: 1.0 | St+1: [-0.07348578 -0.39011963 -0.07181456 -0.02622485] | At+1: 0 | isTerminal: False | ID: None | relevance: None | birthdate: 99 \t\ttensor([[0.8784, 0.8758]], grad_fn=<PermuteBackward>)\n",
            "transition + qValues : [Transition] St: [-0.07348578 -0.39011963 -0.07181456 -0.02622485] | At: 0 | Rt: 1.0 | St+1: [-0.08128818 -0.58414215 -0.07233905  0.24296344] | At+1: 0 | isTerminal: False | ID: None | relevance: None | birthdate: 99 \t\ttensor([[0.8781, 0.8778]], grad_fn=<PermuteBackward>)\n",
            "transition + qValues : [Transition] St: [-0.08128818 -0.58414215 -0.07233905  0.24296344] | At: 0 | Rt: 1.0 | St+1: [-0.09297102 -0.38806547 -0.06747979 -0.0716315 ] | At+1: 1 | isTerminal: False | ID: None | relevance: None | birthdate: 99 \t\ttensor([[0.8783, 0.8787]], grad_fn=<PermuteBackward>)\n",
            "transition + qValues : [Transition] St: [-0.09297102 -0.38806547 -0.06747979 -0.0716315 ] | At: 1 | Rt: 1.0 | St+1: [-0.10073233 -0.58215837 -0.06891242  0.19902123] | At+1: 0 | isTerminal: False | ID: None | relevance: None | birthdate: 99 \t\ttensor([[0.8782, 0.8779]], grad_fn=<PermuteBackward>)\n",
            "transition + qValues : [Transition] St: [-0.10073233 -0.58215837 -0.06891242  0.19902123] | At: 0 | Rt: 1.0 | St+1: [-0.1123755  -0.38612191 -0.06493199 -0.11457973] | At+1: 1 | isTerminal: False | ID: None | relevance: None | birthdate: 99 \t\ttensor([[0.8784, 0.8788]], grad_fn=<PermuteBackward>)\n",
            "transition + qValues : [Transition] St: [-0.1123755  -0.38612191 -0.06493199 -0.11457973] | At: 1 | Rt: 1.0 | St+1: [-0.12009793 -0.58025628 -0.06722359  0.15693157] | At+1: 0 | isTerminal: False | ID: None | relevance: None | birthdate: 99 \t\ttensor([[0.8783, 0.8780]], grad_fn=<PermuteBackward>)\n",
            "transition + qValues : [Transition] St: [-0.12009793 -0.58025628 -0.06722359  0.15693157] | At: 0 | Rt: 1.0 | St+1: [-0.13170306 -0.38423948 -0.06408495 -0.15617838] | At+1: 1 | isTerminal: False | ID: None | relevance: None | birthdate: 99 \t\ttensor([[0.8786, 0.8789]], grad_fn=<PermuteBackward>)\n",
            "transition + qValues : [Transition] St: [-0.13170306 -0.38423948 -0.06408495 -0.15617838] | At: 1 | Rt: 1.0 | St+1: [-0.13938785 -0.57838813 -0.06720852  0.11561871] | At+1: 0 | isTerminal: False | ID: None | relevance: None | birthdate: 99 \t\ttensor([[0.8784, 0.8780]], grad_fn=<PermuteBackward>)\n",
            "transition + qValues : [Transition] St: [-0.13938785 -0.57838813 -0.06720852  0.11561871] | At: 0 | Rt: 1.0 | St+1: [-0.15095561 -0.38237078 -0.06489615 -0.19748795] | At+1: 1 | isTerminal: False | ID: None | relevance: None | birthdate: 99 \t\ttensor([[0.8787, 0.8791]], grad_fn=<PermuteBackward>)\n",
            "transition + qValues : [Transition] St: [-0.15095561 -0.38237078 -0.06489615 -0.19748795] | At: 1 | Rt: 1.0 | St+1: [-0.15860303 -0.57650736 -0.06884591  0.07403786] | At+1: 0 | isTerminal: False | ID: None | relevance: None | birthdate: 99 \t\ttensor([[0.8785, 0.8781]], grad_fn=<PermuteBackward>)\n",
            "transition + qValues : [Transition] St: [-0.15860303 -0.57650736 -0.06884591  0.07403786] | At: 0 | Rt: 1.0 | St+1: [-0.17013317 -0.38046942 -0.06736515 -0.23954715] | At+1: 1 | isTerminal: False | ID: None | relevance: None | birthdate: 99 \t\ttensor([[0.8790, 0.8792]], grad_fn=<PermuteBackward>)\n",
            "transition + qValues : [Transition] St: [-0.17013317 -0.38046942 -0.06736515 -0.23954715] | At: 1 | Rt: 1.0 | St+1: [-0.17774256 -0.5745676  -0.07215609  0.03114935] | At+1: 0 | isTerminal: False | ID: None | relevance: None | birthdate: 99 \t\ttensor([[0.8787, 0.8780]], grad_fn=<PermuteBackward>)\n",
            "transition + qValues : [Transition] St: [-0.17774256 -0.5745676  -0.07215609  0.03114935] | At: 0 | Rt: 1.0 | St+1: [-0.18923391 -0.37848905 -0.07153311 -0.28339863] | At+1: 1 | isTerminal: False | ID: None | relevance: None | birthdate: 99 \t\ttensor([[0.8792, 0.8794]], grad_fn=<PermuteBackward>)\n",
            "transition + qValues : [Transition] St: [-0.18923391 -0.37848905 -0.07153311 -0.28339863] | At: 1 | Rt: 1.0 | St+1: [-0.1968037  -0.57252168 -0.07720108 -0.01410681] | At+1: 0 | isTerminal: False | ID: None | relevance: None | birthdate: 99 \t\ttensor([[0.8790, 0.8778]], grad_fn=<PermuteBackward>)\n",
            "transition + qValues : [Transition] St: [-0.1968037  -0.57252168 -0.07720108 -0.01410681] | At: 0 | Rt: 1.0 | St+1: [-0.20825413 -0.37638233 -0.07748321 -0.33011411] | At+1: 1 | isTerminal: False | ID: None | relevance: None | birthdate: 99 \t\ttensor([[0.8796, 0.8796]], grad_fn=<PermuteBackward>)\n",
            "transition + qValues : [Transition] St: [-0.20825413 -0.37638233 -0.07748321 -0.33011411] | At: 1 | Rt: 1.0 | St+1: [-0.21578178 -0.5703207  -0.0840855  -0.06283664] | At+1: 0 | isTerminal: False | ID: None | relevance: None | birthdate: 99 \t\ttensor([[0.8796, 0.8772]], grad_fn=<PermuteBackward>)\n",
            "transition + qValues : [Transition] St: [-0.21578178 -0.5703207  -0.0840855  -0.06283664] | At: 0 | Rt: 1.0 | St+1: [-0.22718819 -0.76414271 -0.08534223  0.20217716] | At+1: 0 | isTerminal: False | ID: None | relevance: None | birthdate: 99 \t\ttensor([[0.8801, 0.8799]], grad_fn=<PermuteBackward>)\n",
            "transition + qValues : [Transition] St: [-0.22718819 -0.76414271 -0.08534223  0.20217716] | At: 0 | Rt: 1.0 | St+1: [-0.24247104 -0.56791048 -0.08129869 -0.11616008] | At+1: 1 | isTerminal: False | ID: None | relevance: None | birthdate: 99 \t\ttensor([[0.8802, 0.8807]], grad_fn=<PermuteBackward>)\n",
            "transition + qValues : [Transition] St: [-0.24247104 -0.56791048 -0.08129869 -0.11616008] | At: 1 | Rt: 1.0 | St+1: [-0.25382925 -0.76177914 -0.08362189  0.14980691] | At+1: 0 | isTerminal: False | ID: None | relevance: None | birthdate: 99 \t\ttensor([[0.8803, 0.8801]], grad_fn=<PermuteBackward>)\n",
            "transition + qValues : [Transition] St: [-0.25382925 -0.76177914 -0.08362189  0.14980691] | At: 0 | Rt: 1.0 | St+1: [-0.26906484 -0.5655655  -0.08062575 -0.16804131] | At+1: 1 | isTerminal: False | ID: None | relevance: None | birthdate: 99 \t\ttensor([[0.8805, 0.8810]], grad_fn=<PermuteBackward>)\n",
            "transition + qValues : [Transition] St: [-0.26906484 -0.5655655  -0.08062575 -0.16804131] | At: 1 | Rt: 1.0 | St+1: [-0.28037615 -0.75944636 -0.08398657  0.09815696] | At+1: 0 | isTerminal: False | ID: None | relevance: None | birthdate: 99 \t\ttensor([[0.8805, 0.8804]], grad_fn=<PermuteBackward>)\n",
            "transition + qValues : [Transition] St: [-0.28037615 -0.75944636 -0.08398657  0.09815696] | At: 0 | Rt: 1.0 | St+1: [-0.29556507 -0.5632274  -0.08202344 -0.21979707] | At+1: 1 | isTerminal: False | ID: None | relevance: None | birthdate: 99 \t\ttensor([[0.8808, 0.8813]], grad_fn=<PermuteBackward>)\n",
            "transition + qValues : [Transition] St: [-0.29556507 -0.5632274  -0.08202344 -0.21979707] | At: 1 | Rt: 1.0 | St+1: [-0.30682962 -0.75708693 -0.08641938  0.04592672] | At+1: 0 | isTerminal: False | ID: None | relevance: None | birthdate: 99 \t\ttensor([[0.8809, 0.8806]], grad_fn=<PermuteBackward>)\n",
            "transition + qValues : [Transition] St: [-0.30682962 -0.75708693 -0.08641938  0.04592672] | At: 0 | Rt: 1.0 | St+1: [-0.32197136 -0.56083891 -0.08550084 -0.27272244] | At+1: 1 | isTerminal: False | ID: None | relevance: None | birthdate: 99 \t\ttensor([[0.8811, 0.8816]], grad_fn=<PermuteBackward>)\n",
            "transition + qValues : [Transition] St: [-0.32197136 -0.56083891 -0.08550084 -0.27272244] | At: 1 | Rt: 1.0 | St+1: [-0.33318814 -0.7546434  -0.09095529 -0.00818428] | At+1: 0 | isTerminal: False | ID: None | relevance: None | birthdate: 99 \t\ttensor([[0.8815, 0.8806]], grad_fn=<PermuteBackward>)\n",
            "transition + qValues : [Transition] St: [-0.33318814 -0.7546434  -0.09095529 -0.00818428] | At: 0 | Rt: 1.0 | St+1: [-0.34828101 -0.94835118 -0.09111898  0.25447232] | At+1: 0 | isTerminal: False | ID: None | relevance: None | birthdate: 99 \t\ttensor([[0.8815, 0.8819]], grad_fn=<PermuteBackward>)\n",
            "transition + qValues : [Transition] St: [-0.34828101 -0.94835118 -0.09111898  0.25447232] | At: 0 | Rt: 1.0 | St+1: [-0.36724803 -0.75205434 -0.08602953 -0.06550336] | At+1: 1 | isTerminal: False | ID: None | relevance: None | birthdate: 99 \t\ttensor([[0.8814, 0.8822]], grad_fn=<PermuteBackward>)\n",
            "transition + qValues : [Transition] St: [-0.36724803 -0.75205434 -0.08602953 -0.06550336] | At: 1 | Rt: 1.0 | St+1: [-0.38228912 -0.55581105 -0.0873396  -0.38404116] | At+1: 1 | isTerminal: False | ID: None | relevance: None | birthdate: 99 \t\ttensor([[0.8816, 0.8821]], grad_fn=<PermuteBackward>)\n",
            "transition + qValues : [Transition] St: [-0.38228912 -0.55581105 -0.0873396  -0.38404116] | At: 1 | Rt: 1.0 | St+1: [-0.39340534 -0.74959145 -0.09502042 -0.12012371] | At+1: 0 | isTerminal: False | ID: None | relevance: None | birthdate: 99 \t\ttensor([[0.8842, 0.8815]], grad_fn=<PermuteBackward>)\n",
            "transition + qValues : [Transition] St: [-0.39340534 -0.74959145 -0.09502042 -0.12012371] | At: 0 | Rt: 1.0 | St+1: [-0.40839717 -0.94323264 -0.0974229   0.14113382] | At+1: 0 | isTerminal: False | ID: None | relevance: None | birthdate: 99 \t\ttensor([[0.8822, 0.8824]], grad_fn=<PermuteBackward>)\n",
            "transition + qValues : [Transition] St: [-0.40839717 -0.94323264 -0.0974229   0.14113382] | At: 0 | Rt: 1.0 | St+1: [-0.42726182 -0.74686017 -0.09460022 -0.18062519] | At+1: 1 | isTerminal: False | ID: None | relevance: None | birthdate: 99 \t\ttensor([[0.8819, 0.8826]], grad_fn=<PermuteBackward>)\n",
            "transition + qValues : [Transition] St: [-0.42726182 -0.74686017 -0.09460022 -0.18062519] | At: 1 | Rt: 1.0 | St+1: [-0.44219902 -0.94051007 -0.09821272  0.08077988] | At+1: 0 | isTerminal: False | ID: None | relevance: None | birthdate: 99 \t\ttensor([[0.8829, 0.8827]], grad_fn=<PermuteBackward>)\n",
            "transition + qValues : [Transition] St: [-0.44219902 -0.94051007 -0.09821272  0.08077988] | At: 0 | Rt: 1.0 | St+1: [-0.46100922 -0.74412743 -0.09659712 -0.24120268] | At+1: 1 | isTerminal: False | ID: None | relevance: None | birthdate: 99 \t\ttensor([[0.8822, 0.8828]], grad_fn=<PermuteBackward>)\n",
            "transition + qValues : [Transition] St: [-0.46100922 -0.74412743 -0.09659712 -0.24120268] | At: 1 | Rt: 1.0 | St+1: [-0.47589177 -0.93774633 -0.10142118  0.01951632] | At+1: 0 | isTerminal: False | ID: None | relevance: None | birthdate: 99 \t\ttensor([[0.8847, 0.8836]], grad_fn=<PermuteBackward>)\n",
            "transition + qValues : [Transition] St: [-0.47589177 -0.93774633 -0.10142118  0.01951632] | At: 0 | Rt: 1.0 | St+1: [-0.4946467  -0.74132717 -0.10103085 -0.30336514] | At+1: 1 | isTerminal: False | ID: None | relevance: None | birthdate: 99 \t\ttensor([[0.8826, 0.8831]], grad_fn=<PermuteBackward>)\n",
            "transition + qValues : [Transition] St: [-0.4946467  -0.74132717 -0.10103085 -0.30336514] | At: 1 | Rt: 1.0 | St+1: [-0.50947324 -0.93487502 -0.10709815 -0.04417635] | At+1: 0 | isTerminal: False | ID: None | relevance: None | birthdate: 99 \t\ttensor([[0.8906, 0.8866]], grad_fn=<PermuteBackward>)\n",
            "transition + qValues : [Transition] St: [-0.50947324 -0.93487502 -0.10709815 -0.04417635] | At: 0 | Rt: 1.0 | St+1: [-0.52817074 -1.12831122 -0.10798168  0.2128888 ] | At+1: 0 | isTerminal: False | ID: None | relevance: None | birthdate: 99 \t\ttensor([[0.8837, 0.8836]], grad_fn=<PermuteBackward>)\n",
            "transition + qValues : [Transition] St: [-0.52817074 -1.12831122 -0.10798168  0.2128888 ] | At: 0 | Rt: 1.0 | St+1: [-0.55073697 -0.93182442 -0.10372391 -0.11180974] | At+1: 1 | isTerminal: False | ID: None | relevance: None | birthdate: 99 \t\ttensor([[0.8825, 0.8832]], grad_fn=<PermuteBackward>)\n",
            "transition + qValues : [Transition] St: [-0.55073697 -0.93182442 -0.10372391 -0.11180974] | At: 1 | Rt: 1.0 | St+1: [-0.56937346 -1.12531895 -0.1059601   0.14643197] | At+1: 0 | isTerminal: False | ID: None | relevance: None | birthdate: 99 \t\ttensor([[0.8852, 0.8846]], grad_fn=<PermuteBackward>)\n",
            "transition + qValues : [Transition] St: [-0.56937346 -1.12531895 -0.1059601   0.14643197] | At: 0 | Rt: 1.0 | St+1: [-0.59187983 -0.92885174 -0.10303146 -0.17771002] | At+1: 1 | isTerminal: False | ID: None | relevance: None | birthdate: 99 \t\ttensor([[0.8829, 0.8835]], grad_fn=<PermuteBackward>)\n",
            "transition + qValues : [Transition] St: [-0.59187983 -0.92885174 -0.10303146 -0.17771002] | At: 1 | Rt: 1.0 | St+1: [-0.61045687 -1.1223599  -0.10658566  0.08077526] | At+1: 0 | isTerminal: False | ID: None | relevance: None | birthdate: 99 \t\ttensor([[0.8884, 0.8866]], grad_fn=<PermuteBackward>)\n",
            "transition + qValues : [Transition] St: [-0.61045687 -1.1223599  -0.10658566  0.08077526] | At: 0 | Rt: 1.0 | St+1: [-0.63290407 -0.92588428 -0.10497016 -0.24354259] | At+1: 1 | isTerminal: False | ID: None | relevance: None | birthdate: 99 \t\ttensor([[0.8837, 0.8840]], grad_fn=<PermuteBackward>)\n",
            "transition + qValues : [Transition] St: [-0.63290407 -0.92588428 -0.10497016 -0.24354259] | At: 1 | Rt: 1.0 | St+1: [-0.65142175 -1.11936249 -0.10984101  0.01427269] | At+1: 0 | isTerminal: False | ID: None | relevance: None | birthdate: 99 \t\ttensor([[0.8934, 0.8895]], grad_fn=<PermuteBackward>)\n",
            "transition + qValues : [Transition] St: [-0.65142175 -1.11936249 -0.10984101  0.01427269] | At: 0 | Rt: 1.0 | St+1: [-0.673809   -1.31275178 -0.10955555  0.27038009] | At+1: 0 | isTerminal: False | ID: None | relevance: None | birthdate: 99 \t\ttensor([[0.8857, 0.8852]], grad_fn=<PermuteBackward>)\n",
            "transition + qValues : [Transition] St: [-0.673809   -1.31275178 -0.10955555  0.27038009] | At: 0 | Rt: 1.0 | St+1: [-0.70006404 -1.50615371 -0.10414795  0.52659882] | At+1: 0 | isTerminal: False | ID: None | relevance: None | birthdate: 99 \t\ttensor([[0.8831, 0.8838]], grad_fn=<PermuteBackward>)\n",
            "transition + qValues : [Transition] St: [-0.70006404 -1.50615371 -0.10414795  0.52659882] | At: 0 | Rt: 1.0 | St+1: [-0.73018711 -1.30973236 -0.09361598  0.20299908] | At+1: 1 | isTerminal: False | ID: None | relevance: None | birthdate: 99 \t\ttensor([[0.8823, 0.8833]], grad_fn=<PermuteBackward>)\n",
            "transition + qValues : [Transition] St: [-0.73018711 -1.30973236 -0.09361598  0.20299908] | At: 1 | Rt: 1.0 | St+1: [-0.75638176 -1.11340494 -0.08955599 -0.11768545] | At+1: 1 | isTerminal: False | ID: None | relevance: None | birthdate: 99 \t\ttensor([[0.8832, 0.8839]], grad_fn=<PermuteBackward>)\n",
            "transition + qValues : [Transition] St: [-0.75638176 -1.11340494 -0.08955599 -0.11768545] | At: 1 | Rt: 1.0 | St+1: [-0.77864986 -1.3071372  -0.0919097   0.1454541 ] | At+1: 0 | isTerminal: False | ID: None | relevance: None | birthdate: 99 \t\ttensor([[0.8870, 0.8862]], grad_fn=<PermuteBackward>)\n",
            "transition + qValues : [Transition] St: [-0.77864986 -1.3071372  -0.0919097   0.1454541 ] | At: 0 | Rt: 1.0 | St+1: [-0.8047926  -1.11082743 -0.08900062 -0.17475112] | At+1: 1 | isTerminal: False | ID: None | relevance: None | birthdate: 99 \t\ttensor([[0.8838, 0.8843]], grad_fn=<PermuteBackward>)\n",
            "transition + qValues : [Transition] St: [-0.8047926  -1.11082743 -0.08900062 -0.17475112] | At: 1 | Rt: 1.0 | St+1: [-0.82700915 -1.30457037 -0.09249564  0.08858139] | At+1: 0 | isTerminal: False | ID: None | relevance: None | birthdate: 99 \t\ttensor([[0.8892, 0.8877]], grad_fn=<PermuteBackward>)\n",
            "transition + qValues : [Transition] St: [-0.82700915 -1.30457037 -0.09249564  0.08858139] | At: 0 | Rt: 1.0 | St+1: [-0.85310056 -1.1082527  -0.09072402 -0.23179128] | At+1: 1 | isTerminal: False | ID: None | relevance: None | birthdate: 99 \t\ttensor([[0.8847, 0.8849]], grad_fn=<PermuteBackward>)\n",
            "transition + qValues : [Transition] St: [-0.85310056 -1.1082527  -0.09072402 -0.23179128] | At: 1 | Rt: 1.0 | St+1: [-0.87526561 -1.30196906 -0.09535984  0.03095196] | At+1: 0 | isTerminal: False | ID: None | relevance: None | birthdate: 99 \t\ttensor([[0.8920, 0.8895]], grad_fn=<PermuteBackward>)\n",
            "transition + qValues : [Transition] St: [-0.87526561 -1.30196906 -0.09535984  0.03095196] | At: 0 | Rt: 1.0 | St+1: [-0.90130499 -1.49560333 -0.0947408   0.29209043] | At+1: 0 | isTerminal: False | ID: None | relevance: None | birthdate: 99 \t\ttensor([[0.8863, 0.8859]], grad_fn=<PermuteBackward>)\n",
            "transition + qValues : [Transition] St: [-0.90130499 -1.49560333 -0.0947408   0.29209043] | At: 0 | Rt: 1.0 | St+1: [-0.93121706 -1.29926721 -0.08889899 -0.02890518] | At+1: 1 | isTerminal: False | ID: None | relevance: None | birthdate: 99 \t\ttensor([[0.8837, 0.8843]], grad_fn=<PermuteBackward>)\n",
            "transition + qValues : [Transition] St: [-0.93121706 -1.29926721 -0.08889899 -0.02890518] | At: 1 | Rt: 1.0 | St+1: [-0.9572024  -1.49300926 -0.0894771   0.2344584 ] | At+1: 0 | isTerminal: False | ID: None | relevance: None | birthdate: 99 \t\ttensor([[0.8869, 0.8864]], grad_fn=<PermuteBackward>)\n",
            "transition + qValues : [Transition] St: [-0.9572024  -1.49300926 -0.0894771   0.2344584 ] | At: 0 | Rt: 1.0 | St+1: [-0.98706259 -1.29673038 -0.08478793 -0.0850533 ] | At+1: 1 | isTerminal: False | ID: None | relevance: None | birthdate: 99 \t\ttensor([[0.8841, 0.8846]], grad_fn=<PermuteBackward>)\n",
            "transition + qValues : [Transition] St: [-0.98706259 -1.29673038 -0.08478793 -0.0850533 ] | At: 1 | Rt: 1.0 | St+1: [-1.0129972  -1.49054106 -0.086489    0.17972057] | At+1: 0 | isTerminal: False | ID: None | relevance: None | birthdate: 99 \t\ttensor([[0.8878, 0.8870]], grad_fn=<PermuteBackward>)\n",
            "transition + qValues : [Transition] St: [-1.0129972  -1.49054106 -0.086489    0.17972057] | At: 0 | Rt: 1.0 | St+1: [-1.04280802 -1.29429478 -0.08289458 -0.13894463] | At+1: 1 | isTerminal: False | ID: None | relevance: None | birthdate: 99 \t\ttensor([[0.8847, 0.8850]], grad_fn=<PermuteBackward>)\n",
            "transition + qValues : [Transition] St: [-1.04280802 -1.29429478 -0.08289458 -0.13894463] | At: 1 | Rt: 1.0 | St+1: [-1.06869391 -1.48813766 -0.08567348  0.12647816] | At+1: 0 | isTerminal: False | ID: None | relevance: None | birthdate: 99 \t\ttensor([[0.8890, 0.8877]], grad_fn=<PermuteBackward>)\n",
            "transition + qValues : [Transition] St: [-1.06869391 -1.48813766 -0.08567348  0.12647816] | At: 0 | Rt: 1.0 | St+1: [-1.09845667 -1.2918995  -0.08314391 -0.19195665] | At+1: 1 | isTerminal: False | ID: None | relevance: None | birthdate: 99 \t\ttensor([[0.8855, 0.8855]], grad_fn=<PermuteBackward>)\n",
            "transition + qValues : [Transition] St: [-1.09845667 -1.2918995  -0.08314391 -0.19195665] | At: 1 | Rt: 1.0 | St+1: [-1.12429466 -1.48573969 -0.08698305  0.07338306] | At+1: 0 | isTerminal: False | ID: None | relevance: None | birthdate: 99 \t\ttensor([[0.8905, 0.8887]], grad_fn=<PermuteBackward>)\n",
            "transition + qValues : [Transition] St: [-1.12429466 -1.48573969 -0.08698305  0.07338306] | At: 0 | Rt: 1.0 | St+1: [-1.15400945 -1.67951391 -0.08551539  0.33740473] | At+1: 0 | isTerminal: False | ID: None | relevance: None | birthdate: 99 \t\ttensor([[0.8865, 0.8861]], grad_fn=<PermuteBackward>)\n",
            "transition + qValues : [Transition] St: [-1.15400945 -1.67951391 -0.08551539  0.33740473] | At: 0 | Rt: 1.0 | St+1: [-1.18759973 -1.48328575 -0.07876729  0.01902717] | At+1: 1 | isTerminal: False | ID: None | relevance: None | birthdate: 99 \t\ttensor([[0.8848, 0.8850]], grad_fn=<PermuteBackward>)\n",
            "transition + qValues : [Transition] St: [-1.18759973 -1.48328575 -0.07876729  0.01902717] | At: 1 | Rt: 1.0 | St+1: [-1.21726544 -1.67719491 -0.07838675  0.28585543] | At+1: 0 | isTerminal: False | ID: None | relevance: None | birthdate: 99 \t\ttensor([[0.8867, 0.8863]], grad_fn=<PermuteBackward>)\n",
            "transition + qValues : [Transition] St: [-1.21726544 -1.67719491 -0.07838675  0.28585543] | At: 0 | Rt: 1.0 | St+1: [-1.25080934 -1.87111651 -0.07266964  0.55282253] | At+1: 0 | isTerminal: False | ID: None | relevance: None | birthdate: 99 \t\ttensor([[0.8853, 0.8853]], grad_fn=<PermuteBackward>)\n",
            "transition + qValues : [Transition] St: [-1.25080934 -1.87111651 -0.07266964  0.55282253] | At: 0 | Rt: 1.0 | St+1: [-1.28823167 -2.06514674 -0.06161319  0.82175365] | At+1: 0 | isTerminal: False | ID: None | relevance: None | birthdate: 99 \t\ttensor([[0.8858, 0.8843]], grad_fn=<PermuteBackward>)\n",
            "transition + qValues : [Transition] St: [-1.28823167 -2.06514674 -0.06161319  0.82175365] | At: 0 | Rt: 1.0 | St+1: [-1.32953461 -2.25937399 -0.04517812  1.09443889] | At+1: 0 | isTerminal: False | ID: None | relevance: None | birthdate: 99 \t\ttensor([[0.8954, 0.8898]], grad_fn=<PermuteBackward>)\n",
            "transition + qValues : [Transition] St: [-1.32953461 -2.25937399 -0.04517812  1.09443889] | At: 0 | Rt: 1.0 | St+1: [-1.37472209 -2.45387265 -0.02328934  1.37261134] | At+1: 0 | isTerminal: False | ID: None | relevance: None | birthdate: 99 \t\ttensor([[0.8697, 0.8637]], grad_fn=<PermuteBackward>)\n",
            "transition + qValues : [Transition] St: [-1.37472209 -2.45387265 -0.02328934  1.37261134] | At: 0 | Rt: 1.0 | St+1: [-1.42379954 -2.25846737  0.00416289  1.07273647] | At+1: 1 | isTerminal: False | ID: None | relevance: None | birthdate: 99 \t\ttensor([[0.8273, 0.8449]], grad_fn=<PermuteBackward>)\n",
            "transition + qValues : [Transition] St: [-1.42379954 -2.25846737  0.00416289  1.07273647] | At: 1 | Rt: 1.0 | St+1: [-1.46896889 -2.0634007   0.02561762  0.78136287] | At+1: 1 | isTerminal: False | ID: None | relevance: None | birthdate: 99 \t\ttensor([[0.8242, 0.8428]], grad_fn=<PermuteBackward>)\n",
            "transition + qValues : [Transition] St: [-1.46896889 -2.0634007   0.02561762  0.78136287] | At: 1 | Rt: 1.0 | St+1: [-1.5102369  -1.86864007  0.04124488  0.49684855] | At+1: 1 | isTerminal: False | ID: None | relevance: None | birthdate: 99 \t\ttensor([[0.8270, 0.8449]], grad_fn=<PermuteBackward>)\n",
            "transition + qValues : [Transition] St: [-1.5102369  -1.86864007  0.04124488  0.49684855] | At: 1 | Rt: 1.0 | St+1: [-1.5476097  -1.67412323  0.05118185  0.21744398] | At+1: 1 | isTerminal: False | ID: None | relevance: None | birthdate: 99 \t\ttensor([[0.8438, 0.8543]], grad_fn=<PermuteBackward>)\n",
            "transition + qValues : [Transition] St: [-1.5476097  -1.67412323  0.05118185  0.21744398] | At: 1 | Rt: 1.0 | St+1: [-1.58109217 -1.86993806  0.05553073  0.52582249] | At+1: 0 | isTerminal: False | ID: None | relevance: None | birthdate: 99 \t\ttensor([[0.8696, 0.8688]], grad_fn=<PermuteBackward>)\n",
            "transition + qValues : [Transition] St: [-1.58109217 -1.86993806  0.05553073  0.52582249] | At: 0 | Rt: 1.0 | St+1: [-1.61849093 -1.67563969  0.06604718  0.25114183] | At+1: 1 | isTerminal: False | ID: None | relevance: None | birthdate: 99 \t\ttensor([[0.8087, 0.8316]], grad_fn=<PermuteBackward>)\n",
            "transition + qValues : [Transition] St: [-1.61849093 -1.67563969  0.06604718  0.25114183] | At: 1 | Rt: 1.0 | St+1: [-1.65200372 -1.48152001  0.07107001 -0.01999907] | At+1: 1 | isTerminal: False | ID: None | relevance: None | birthdate: 99 \t\ttensor([[0.8186, 0.8408]], grad_fn=<PermuteBackward>)\n",
            "transition + qValues : [Transition] St: [-1.65200372 -1.48152001  0.07107001 -0.01999907] | At: 1 | Rt: 1.0 | St+1: [-1.68163412 -1.28748544  0.07067003 -0.28943919] | At+1: 1 | isTerminal: False | ID: None | relevance: None | birthdate: 99 \t\ttensor([[0.8621, 0.8643]], grad_fn=<PermuteBackward>)\n",
            "transition + qValues : [Transition] St: [-1.68163412 -1.28748544  0.07067003 -0.28943919] | At: 1 | Rt: 1.0 | St+1: [-1.70738383 -1.48354024  0.06488125  0.02466864] | At+1: 0 | isTerminal: False | ID: None | relevance: None | birthdate: 99 \t\ttensor([[0.8910, 0.8849]], grad_fn=<PermuteBackward>)\n",
            "transition + qValues : [Transition] St: [-1.70738383 -1.48354024  0.06488125  0.02466864] | At: 0 | Rt: 1.0 | St+1: [-1.73705464 -1.28940584  0.06537462 -0.24685854] | At+1: 1 | isTerminal: False | ID: None | relevance: None | birthdate: 99 \t\ttensor([[0.8422, 0.8549]], grad_fn=<PermuteBackward>)\n",
            "transition + qValues : [Transition] St: [-1.73705464 -1.28940584  0.06537462 -0.24685854] | At: 1 | Rt: 1.0 | St+1: [-1.76284275 -1.48539761  0.06043745  0.06570755] | At+1: 0 | isTerminal: False | ID: None | relevance: None | birthdate: 99 \t\ttensor([[0.8868, 0.8847]], grad_fn=<PermuteBackward>)\n",
            "transition + qValues : [Transition] St: [-1.76284275 -1.48539761  0.06043745  0.06570755] | At: 0 | Rt: 1.0 | St+1: [-1.79255071 -1.2911919   0.0617516  -0.20731135] | At+1: 1 | isTerminal: False | ID: None | relevance: None | birthdate: 99 \t\ttensor([[0.8135, 0.8384]], grad_fn=<PermuteBackward>)\n",
            "transition + qValues : [Transition] St: [-1.79255071 -1.2911919   0.0617516  -0.20731135] | At: 1 | Rt: 1.0 | St+1: [-1.81837454 -1.09700483  0.05760537 -0.47989333] | At+1: 1 | isTerminal: False | ID: None | relevance: None | birthdate: 99 \t\ttensor([[0.8754, 0.8744]], grad_fn=<PermuteBackward>)\n",
            "transition + qValues : [Transition] St: [-1.81837454 -1.09700483  0.05760537 -0.47989333] | At: 1 | Rt: 1.0 | St+1: [-1.84031464 -1.29289065  0.04800751 -0.16962536] | At+1: 0 | isTerminal: False | ID: None | relevance: None | birthdate: 99 \t\ttensor([[0.8998, 0.8914]], grad_fn=<PermuteBackward>)\n",
            "transition + qValues : [Transition] St: [-1.84031464 -1.29289065  0.04800751 -0.16962536] | At: 0 | Rt: 1.0 | St+1: [-1.86617245 -1.48866571  0.044615    0.13780767] | At+1: 0 | isTerminal: False | ID: None | relevance: None | birthdate: 99 \t\ttensor([[0.8721, 0.8720]], grad_fn=<PermuteBackward>)\n",
            "transition + qValues : [Transition] St: [-1.86617245 -1.48866571  0.044615    0.13780767] | At: 0 | Rt: 1.0 | St+1: [-1.89594577 -1.29421023  0.04737115 -0.14047284] | At+1: 1 | isTerminal: False | ID: None | relevance: None | birthdate: 99 \t\ttensor([[0.8031, 0.8270]], grad_fn=<PermuteBackward>)\n",
            "transition + qValues : [Transition] St: [-1.89594577 -1.29421023  0.04737115 -0.14047284] | At: 1 | Rt: 1.0 | St+1: [-1.92182997 -1.4899775   0.0445617   0.16677056] | At+1: 0 | isTerminal: False | ID: None | relevance: None | birthdate: 99 \t\ttensor([[0.8447, 0.8569]], grad_fn=<PermuteBackward>)\n",
            "transition + qValues : [Transition] St: [-1.92182997 -1.4899775   0.0445617   0.16677056] | At: 0 | Rt: 1.0 | St+1: [-1.95162952 -1.29552081  0.04789711 -0.11152811] | At+1: 1 | isTerminal: False | ID: None | relevance: None | birthdate: 99 \t\ttensor([[0.8029, 0.8254]], grad_fn=<PermuteBackward>)\n",
            "transition + qValues : [Transition] St: [-1.95162952 -1.29552081  0.04789711 -0.11152811] | At: 1 | Rt: 1.0 | St+1: [-1.97753994 -1.10111675  0.04566655 -0.38872341] | At+1: 1 | isTerminal: False | ID: None | relevance: None | birthdate: 99 \t\ttensor([[0.8087, 0.8358]], grad_fn=<PermuteBackward>)\n",
            "transition + qValues : [Transition] St: [-1.97753994 -1.10111675  0.04566655 -0.38872341] | At: 1 | Rt: 1.0 | St+1: [-1.99956227 -1.29685614  0.03789208 -0.08199912] | At+1: 0 | isTerminal: False | ID: None | relevance: None | birthdate: 99 \t\ttensor([[0.8853, 0.8824]], grad_fn=<PermuteBackward>)\n",
            "transition + qValues : [Transition] St: [-1.99956227 -1.29685614  0.03789208 -0.08199912] | At: 0 | Rt: 1.0 | St+1: [-2.0254994  -1.10229728  0.03625209 -0.36249032] | At+1: 1 | isTerminal: False | ID: None | relevance: None | birthdate: 99 \t\ttensor([[0.8043, 0.8317]], grad_fn=<PermuteBackward>)\n",
            "transition + qValues : [Transition] St: [-2.0254994  -1.10229728  0.03625209 -0.36249032] | At: 1 | Rt: 1.0 | St+1: [-2.04754534 -1.29791524  0.02900229 -0.0586004 ] | At+1: 0 | isTerminal: False | ID: None | relevance: None | birthdate: 99 \t\ttensor([[0.8800, 0.8782]], grad_fn=<PermuteBackward>)\n",
            "transition + qValues : [Transition] St: [-2.04754534 -1.29791524  0.02900229 -0.0586004 ] | At: 0 | Rt: 1.0 | St+1: [-2.07350365 -1.10322087  0.02783028 -0.34199366] | At+1: 1 | isTerminal: False | ID: None | relevance: None | birthdate: 99 \t\ttensor([[0.8023, 0.8290]], grad_fn=<PermuteBackward>)\n",
            "transition + qValues : [Transition] St: [-2.07350365 -1.10322087  0.02783028 -0.34199366] | At: 1 | Rt: 1.0 | St+1: [-2.09556806 -0.9085057   0.02099041 -0.62577227] | At+1: 1 | isTerminal: False | ID: None | relevance: None | birthdate: 99 \t\ttensor([[0.8738, 0.8738]], grad_fn=<PermuteBackward>)\n",
            "transition + qValues : [Transition] St: [-2.09556806 -0.9085057   0.02099041 -0.62577227] | At: 1 | Rt: 1.0 | St+1: [-2.11373818 -1.10391427  0.00847496 -0.32655325] | At+1: 0 | isTerminal: False | ID: None | relevance: None | birthdate: 99 \t\ttensor([[0.9022, 0.8936]], grad_fn=<PermuteBackward>)\n",
            "transition + qValues : [Transition] St: [-2.11373818 -1.10391427  0.00847496 -0.32655325] | At: 0 | Rt: 1.0 | St+1: [-2.13581646e+00 -1.29915586e+00  1.94389640e-03 -3.12097869e-02] | At+1: 0 | isTerminal: False | ID: None | relevance: None | birthdate: 99 \t\ttensor([[0.8862, 0.8834]], grad_fn=<PermuteBackward>)\n",
            "transition + qValues : [Transition] St: [-2.13581646e+00 -1.29915586e+00  1.94389640e-03 -3.12097869e-02] | At: 0 | Rt: 1.0 | St+1: [-2.16179958e+00 -1.10406183e+00  1.31970066e-03 -3.23278760e-01] | At+1: 1 | isTerminal: False | ID: None | relevance: None | birthdate: 99 \t\ttensor([[0.8069, 0.8339]], grad_fn=<PermuteBackward>)\n",
            "transition + qValues : [Transition] St: [-2.16179958e+00 -1.10406183e+00  1.31970066e-03 -3.23278760e-01] | At: 1 | Rt: 1.0 | St+1: [-2.18388082 -1.29920255 -0.00514587 -0.03017995] | At+1: 0 | isTerminal: False | ID: None | relevance: None | birthdate: 99 \t\ttensor([[0.8847, 0.8821]], grad_fn=<PermuteBackward>)\n",
            "transition + qValues : [Transition] St: [-2.18388082 -1.29920255 -0.00514587 -0.03017995] | At: 0 | Rt: 1.0 | St+1: [-2.20986487 -1.10400719 -0.00574947 -0.324482  ] | At+1: 1 | isTerminal: False | ID: None | relevance: None | birthdate: 99 \t\ttensor([[0.8058, 0.8328]], grad_fn=<PermuteBackward>)\n",
            "transition + qValues : [Transition] St: [-2.20986487 -1.10400719 -0.00574947 -0.324482  ] | At: 1 | Rt: 1.0 | St+1: [-2.23194501 -1.2990468  -0.01223911 -0.03361775] | At+1: 0 | isTerminal: False | ID: None | relevance: None | birthdate: 99 \t\ttensor([[0.8839, 0.8816]], grad_fn=<PermuteBackward>)\n",
            "transition + qValues : [Transition] St: [-2.23194501 -1.2990468  -0.01223911 -0.03361775] | At: 0 | Rt: 1.0 | St+1: [-2.25792595 -1.1037515  -0.01291147 -0.33013698] | At+1: 1 | isTerminal: False | ID: None | relevance: None | birthdate: 99 \t\ttensor([[0.8057, 0.8327]], grad_fn=<PermuteBackward>)\n",
            "transition + qValues : [Transition] St: [-2.25792595 -1.1037515  -0.01291147 -0.33013698] | At: 1 | Rt: 1.0 | St+1: [-2.28000098 -1.29868729 -0.01951421 -0.04155352] | At+1: 0 | isTerminal: False | ID: None | relevance: None | birthdate: 99 \t\ttensor([[0.8844, 0.8820]], grad_fn=<PermuteBackward>)\n",
            "transition + qValues : [Transition] St: [-2.28000098 -1.29868729 -0.01951421 -0.04155352] | At: 0 | Rt: 1.0 | St+1: [-2.30597472 -1.10329103 -0.02034528 -0.34032893] | At+1: 1 | isTerminal: False | ID: None | relevance: None | birthdate: 99 \t\ttensor([[0.8066, 0.8335]], grad_fn=<PermuteBackward>)\n",
            "transition + qValues : [Transition] St: [-2.30597472 -1.10329103 -0.02034528 -0.34032893] | At: 1 | Rt: 1.0 | St+1: [-2.32804054 -1.29811768 -0.02715186 -0.05413053] | At+1: 0 | isTerminal: False | ID: None | relevance: None | birthdate: 99 \t\ttensor([[0.8863, 0.8836]], grad_fn=<PermuteBackward>)\n",
            "transition + qValues : [Transition] St: [-2.32804054 -1.29811768 -0.02715186 -0.05413053] | At: 0 | Rt: 1.0 | St+1: [-2.3540029  -1.10261714 -0.02823447 -0.35525491] | At+1: 1 | isTerminal: False | ID: None | relevance: None | birthdate: 99 \t\ttensor([[0.8092, 0.8359]], grad_fn=<PermuteBackward>)\n",
            "transition + qValues : [Transition] St: [-2.3540029  -1.10261714 -0.02823447 -0.35525491] | At: 1 | Rt: 1.0 | St+1: [-2.37605524 -1.2973265  -0.03533957 -0.0716071 ] | At+1: 0 | isTerminal: False | ID: None | relevance: None | birthdate: 99 \t\ttensor([[0.8893, 0.8862]], grad_fn=<PermuteBackward>)\n",
            "transition + qValues : [Transition] St: [-2.37605524 -1.2973265  -0.03533957 -0.0716071 ] | At: 0 | Rt: 1.0 | St+1: [-2.40200177 -1.1017162  -0.03677171 -0.37522703] | At+1: 1 | isTerminal: True | ID: None | relevance: None | birthdate: 99 \t\ttensor([[0.8154, 0.8406]], grad_fn=<PermuteBackward>)\n"
          ],
          "name": "stdout"
        }
      ]
    },
    {
      "cell_type": "markdown",
      "metadata": {
        "id": "87WjUi6Oj-i5"
      },
      "source": [
        "# Renderer"
      ]
    },
    {
      "cell_type": "markdown",
      "metadata": {
        "id": "JcklcmQ_7khc"
      },
      "source": [
        "Source : https://colab.research.google.com/drive/1flu31ulJlgiRL1dnN2ir8wGh9p7Zij2t#scrollTo=odNaDE1zyrL2"
      ]
    },
    {
      "cell_type": "code",
      "metadata": {
        "id": "hGCwZfQlj_rJ"
      },
      "source": [
        "!pip install gym pyvirtualdisplay > /dev/null 2>&1\n",
        "!apt-get install -y xvfb python-opengl ffmpeg > /dev/null 2>&1"
      ],
      "execution_count": 24,
      "outputs": []
    },
    {
      "cell_type": "code",
      "metadata": {
        "colab": {
          "base_uri": "https://localhost:8080/",
          "height": 253
        },
        "id": "HOZvszHFj_5E",
        "outputId": "556af520-39ee-4c7f-ed88-f67432c4106f"
      },
      "source": [
        "!apt-get update > /dev/null 2>&1\n",
        "!apt-get install cmake > /dev/null 2>&1\n",
        "!pip install --upgrade setuptools 2>&1\n",
        "!pip install ez_setup > /dev/null 2>&1\n",
        "!pip install gym[atari] > /dev/null 2>&1"
      ],
      "execution_count": 25,
      "outputs": [
        {
          "output_type": "stream",
          "text": [
            "Collecting setuptools\n",
            "\u001b[?25l  Downloading https://files.pythonhosted.org/packages/3d/f2/1489d3b6c72d68bf79cd0fba6b6c7497df4ebf7d40970e2d7eceb8d0ea9c/setuptools-51.0.0-py3-none-any.whl (785kB)\n",
            "\r\u001b[K     |▍                               | 10kB 27.1MB/s eta 0:00:01\r\u001b[K     |▉                               | 20kB 34.5MB/s eta 0:00:01\r\u001b[K     |█▎                              | 30kB 27.3MB/s eta 0:00:01\r\u001b[K     |█▊                              | 40kB 22.1MB/s eta 0:00:01\r\u001b[K     |██                              | 51kB 24.4MB/s eta 0:00:01\r\u001b[K     |██▌                             | 61kB 23.5MB/s eta 0:00:01\r\u001b[K     |███                             | 71kB 23.1MB/s eta 0:00:01\r\u001b[K     |███▍                            | 81kB 23.5MB/s eta 0:00:01\r\u001b[K     |███▊                            | 92kB 21.6MB/s eta 0:00:01\r\u001b[K     |████▏                           | 102kB 22.1MB/s eta 0:00:01\r\u001b[K     |████▋                           | 112kB 22.1MB/s eta 0:00:01\r\u001b[K     |█████                           | 122kB 22.1MB/s eta 0:00:01\r\u001b[K     |█████▍                          | 133kB 22.1MB/s eta 0:00:01\r\u001b[K     |█████▉                          | 143kB 22.1MB/s eta 0:00:01\r\u001b[K     |██████▎                         | 153kB 22.1MB/s eta 0:00:01\r\u001b[K     |██████▊                         | 163kB 22.1MB/s eta 0:00:01\r\u001b[K     |███████                         | 174kB 22.1MB/s eta 0:00:01\r\u001b[K     |███████▌                        | 184kB 22.1MB/s eta 0:00:01\r\u001b[K     |████████                        | 194kB 22.1MB/s eta 0:00:01\r\u001b[K     |████████▍                       | 204kB 22.1MB/s eta 0:00:01\r\u001b[K     |████████▊                       | 215kB 22.1MB/s eta 0:00:01\r\u001b[K     |█████████▏                      | 225kB 22.1MB/s eta 0:00:01\r\u001b[K     |█████████▋                      | 235kB 22.1MB/s eta 0:00:01\r\u001b[K     |██████████                      | 245kB 22.1MB/s eta 0:00:01\r\u001b[K     |██████████▍                     | 256kB 22.1MB/s eta 0:00:01\r\u001b[K     |██████████▉                     | 266kB 22.1MB/s eta 0:00:01\r\u001b[K     |███████████▎                    | 276kB 22.1MB/s eta 0:00:01\r\u001b[K     |███████████▊                    | 286kB 22.1MB/s eta 0:00:01\r\u001b[K     |████████████                    | 296kB 22.1MB/s eta 0:00:01\r\u001b[K     |████████████▌                   | 307kB 22.1MB/s eta 0:00:01\r\u001b[K     |█████████████                   | 317kB 22.1MB/s eta 0:00:01\r\u001b[K     |█████████████▍                  | 327kB 22.1MB/s eta 0:00:01\r\u001b[K     |█████████████▊                  | 337kB 22.1MB/s eta 0:00:01\r\u001b[K     |██████████████▏                 | 348kB 22.1MB/s eta 0:00:01\r\u001b[K     |██████████████▋                 | 358kB 22.1MB/s eta 0:00:01\r\u001b[K     |███████████████                 | 368kB 22.1MB/s eta 0:00:01\r\u001b[K     |███████████████▍                | 378kB 22.1MB/s eta 0:00:01\r\u001b[K     |███████████████▉                | 389kB 22.1MB/s eta 0:00:01\r\u001b[K     |████████████████▎               | 399kB 22.1MB/s eta 0:00:01\r\u001b[K     |████████████████▊               | 409kB 22.1MB/s eta 0:00:01\r\u001b[K     |█████████████████               | 419kB 22.1MB/s eta 0:00:01\r\u001b[K     |█████████████████▌              | 430kB 22.1MB/s eta 0:00:01\r\u001b[K     |██████████████████              | 440kB 22.1MB/s eta 0:00:01\r\u001b[K     |██████████████████▍             | 450kB 22.1MB/s eta 0:00:01\r\u001b[K     |██████████████████▉             | 460kB 22.1MB/s eta 0:00:01\r\u001b[K     |███████████████████▏            | 471kB 22.1MB/s eta 0:00:01\r\u001b[K     |███████████████████▋            | 481kB 22.1MB/s eta 0:00:01\r\u001b[K     |████████████████████            | 491kB 22.1MB/s eta 0:00:01\r\u001b[K     |████████████████████▌           | 501kB 22.1MB/s eta 0:00:01\r\u001b[K     |████████████████████▉           | 512kB 22.1MB/s eta 0:00:01\r\u001b[K     |█████████████████████▎          | 522kB 22.1MB/s eta 0:00:01\r\u001b[K     |█████████████████████▊          | 532kB 22.1MB/s eta 0:00:01\r\u001b[K     |██████████████████████▏         | 542kB 22.1MB/s eta 0:00:01\r\u001b[K     |██████████████████████▌         | 552kB 22.1MB/s eta 0:00:01\r\u001b[K     |███████████████████████         | 563kB 22.1MB/s eta 0:00:01\r\u001b[K     |███████████████████████▍        | 573kB 22.1MB/s eta 0:00:01\r\u001b[K     |███████████████████████▉        | 583kB 22.1MB/s eta 0:00:01\r\u001b[K     |████████████████████████▏       | 593kB 22.1MB/s eta 0:00:01\r\u001b[K     |████████████████████████▋       | 604kB 22.1MB/s eta 0:00:01\r\u001b[K     |█████████████████████████       | 614kB 22.1MB/s eta 0:00:01\r\u001b[K     |█████████████████████████▌      | 624kB 22.1MB/s eta 0:00:01\r\u001b[K     |█████████████████████████▉      | 634kB 22.1MB/s eta 0:00:01\r\u001b[K     |██████████████████████████▎     | 645kB 22.1MB/s eta 0:00:01\r\u001b[K     |██████████████████████████▊     | 655kB 22.1MB/s eta 0:00:01\r\u001b[K     |███████████████████████████▏    | 665kB 22.1MB/s eta 0:00:01\r\u001b[K     |███████████████████████████▌    | 675kB 22.1MB/s eta 0:00:01\r\u001b[K     |████████████████████████████    | 686kB 22.1MB/s eta 0:00:01\r\u001b[K     |████████████████████████████▍   | 696kB 22.1MB/s eta 0:00:01\r\u001b[K     |████████████████████████████▉   | 706kB 22.1MB/s eta 0:00:01\r\u001b[K     |█████████████████████████████▏  | 716kB 22.1MB/s eta 0:00:01\r\u001b[K     |█████████████████████████████▋  | 727kB 22.1MB/s eta 0:00:01\r\u001b[K     |██████████████████████████████  | 737kB 22.1MB/s eta 0:00:01\r\u001b[K     |██████████████████████████████▌ | 747kB 22.1MB/s eta 0:00:01\r\u001b[K     |██████████████████████████████▉ | 757kB 22.1MB/s eta 0:00:01\r\u001b[K     |███████████████████████████████▎| 768kB 22.1MB/s eta 0:00:01\r\u001b[K     |███████████████████████████████▊| 778kB 22.1MB/s eta 0:00:01\r\u001b[K     |████████████████████████████████| 788kB 22.1MB/s \n",
            "\u001b[31mERROR: datascience 0.10.6 has requirement folium==0.2.1, but you'll have folium 0.8.3 which is incompatible.\u001b[0m\n",
            "\u001b[?25hInstalling collected packages: setuptools\n",
            "  Found existing installation: setuptools 50.3.2\n",
            "    Uninstalling setuptools-50.3.2:\n",
            "      Successfully uninstalled setuptools-50.3.2\n",
            "Successfully installed setuptools-51.0.0\n"
          ],
          "name": "stdout"
        },
        {
          "output_type": "display_data",
          "data": {
            "application/vnd.colab-display-data+json": {
              "pip_warning": {
                "packages": [
                  "pkg_resources"
                ]
              }
            }
          },
          "metadata": {
            "tags": []
          }
        }
      ]
    },
    {
      "cell_type": "code",
      "metadata": {
        "id": "9wlLQ_75kEGf"
      },
      "source": [
        "from gym import logger as gymlogger\n",
        "from gym.wrappers import Monitor\n",
        "gymlogger.set_level(40) #error only\n",
        "import matplotlib\n",
        "import matplotlib.pyplot as plt\n",
        "%matplotlib inline\n",
        "import math\n",
        "import glob\n",
        "import io\n",
        "import base64\n",
        "from IPython.display import HTML\n",
        "\n",
        "from IPython import display as ipythondisplay\n",
        "\n",
        "from pyvirtualdisplay import Display\n",
        "display = Display(visible=0, size=(1400, 900))\n",
        "display.start()\n",
        "\n",
        "def show_video():\n",
        "  mp4list = glob.glob('video/*.mp4')\n",
        "  if len(mp4list) > 0:\n",
        "    mp4 = mp4list[0]\n",
        "    video = io.open(mp4, 'r+b').read()\n",
        "    encoded = base64.b64encode(video)\n",
        "    ipythondisplay.display(HTML(data='''<video alt=\"test\" autoplay \n",
        "                loop controls style=\"height: 400px;\">\n",
        "                <source src=\"data:video/mp4;base64,{0}\" type=\"video/mp4\" />\n",
        "             </video>'''.format(encoded.decode('ascii'))))\n",
        "  else: \n",
        "    print(\"Could not find video\")\n",
        "    \n",
        "\n",
        "def wrap_env(env):\n",
        "  env = Monitor(env, './video', force=True)\n",
        "  return env"
      ],
      "execution_count": 26,
      "outputs": []
    },
    {
      "cell_type": "code",
      "metadata": {
        "id": "2ulZ_QFUkJyV",
        "colab": {
          "base_uri": "https://localhost:8080/",
          "height": 1000
        },
        "outputId": "41bfd6c6-7a36-40cf-e89f-a49e14eb692e"
      },
      "source": [
        "_env = gym.make(\"CartPole-v1\")\n",
        "_env.seed(2)\n",
        "env_wrapped = wrap_env(_env)\n",
        "print(env_wrapped.action_space)\n",
        "\n",
        "observation = env_wrapped.reset()\n",
        "\n",
        "while True:\n",
        "  \n",
        "    env_wrapped.render()\n",
        "    \n",
        "    action = doer.act(observation)\n",
        "    print(action)\n",
        "    observation, reward, done, info = env_wrapped.step(action) \n",
        "\n",
        "    if done: \n",
        "      break;\n",
        "            \n",
        "env_wrapped.close()\n",
        "show_video()"
      ],
      "execution_count": 28,
      "outputs": [
        {
          "output_type": "stream",
          "text": [
            "Discrete(2)\n",
            "1\n",
            "1\n",
            "1\n",
            "1\n",
            "0\n",
            "0\n",
            "0\n",
            "0\n",
            "0\n",
            "1\n",
            "1\n",
            "0\n",
            "1\n",
            "0\n",
            "0\n",
            "1\n",
            "0\n",
            "1\n",
            "0\n",
            "0\n",
            "1\n",
            "0\n",
            "1\n",
            "0\n",
            "1\n",
            "1\n",
            "1\n",
            "0\n",
            "1\n",
            "0\n",
            "0\n",
            "0\n",
            "1\n",
            "0\n"
          ],
          "name": "stdout"
        },
        {
          "output_type": "display_data",
          "data": {
            "text/html": [
              "<video alt=\"test\" autoplay \n",
              "                loop controls style=\"height: 400px;\">\n",
              "                <source src=\"data:video/mp4;base64,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\" type=\"video/mp4\" />\n",
              "             </video>"
            ],
            "text/plain": [
              "<IPython.core.display.HTML object>"
            ]
          },
          "metadata": {
            "tags": []
          }
        }
      ]
    },
    {
      "cell_type": "code",
      "metadata": {
        "id": "1jZRzxiwkLH_"
      },
      "source": [
        ""
      ],
      "execution_count": null,
      "outputs": []
    }
  ]
}